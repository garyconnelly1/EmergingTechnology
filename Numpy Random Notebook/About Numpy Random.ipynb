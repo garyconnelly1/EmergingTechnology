{
 "cells": [
  {
   "cell_type": "markdown",
   "metadata": {},
   "source": [
    "## Table of contents\n",
    "* [Introduction](#introduction)\n",
    "    - [Imports](#imports)\n",
    "* [Random Sampling](#randomSampling)\n",
    "    - [Simple random data](#sampleRandomData)\n",
    "    - [Random floats](#randomFloats)\n",
    "    - [Random choice](#randomChoice)\n",
    "    - [Conclusion](#conclusion1)\n",
    "* [Permutations](#permutations)\n",
    "    - [Shuffle](#shuffle)\n",
    "    - [Permutation](#permutation)\n",
    "    - [Conclusion](#conclusion2)\n",
    "* [Distributions](#distributions)\n",
    "    - [Beta distribution](#betaDistribution)\n",
    "    - [Binomial distribution](#binomialDistribution)\n",
    "    - [Normal distribution](#normalDistribution)\n",
    "    - [Uniform distribution](#uniformDistribution)\n",
    "    - [Triangular distribution](#triangularDistribution)\n",
    "    - [Conclusion](#conclusion3)\n",
    "* [Random generator](#randomGenerator)\n",
    "    - [Random state](#randomState)\n",
    "    - [Seed](#seed)\n",
    "    - [Get state](#getState)\n",
    "    - [Set state](#setState)\n",
    "* [Conclusion](#conclusion4)\n",
    "* [References](#references)"
   ]
  },
  {
   "cell_type": "markdown",
   "metadata": {},
   "source": [
    "# Introduction  <a name=\"introduction\"></a>\n",
    "In this notebook I will be discussing the ins and outs of the numpy.random package. Before I begin talking about the different kinds of random numbers that numpy can generate, I think it is important to fitrst have a quick run-through about what numpy actually is.\n",
    "Numpy is one of the most, if not the most powerful packages in python used for scientific or data analytical purposes. Numpy can contain a powerful N-dimensional array object, broadcasting functions, integration of C/C++ and Fortran code and useful linear algebra,  and Fourier transform. However the focus of this notebook will be numpy's random number capabilities.\n",
    "\n"
   ]
  },
  {
   "cell_type": "markdown",
   "metadata": {},
   "source": [
    "### Imports <a name=\"imports\"></a> \n",
    "In order to use the numpy package, we must first import it. This is done simply by typing \"import numpy as np\". np is just a namespace, meaning that we will be referring to numpy by using \"np\" from here on out in the program. We will also be needing to import a package that will allow us to plot diagrams later on. "
   ]
  },
  {
   "cell_type": "code",
   "execution_count": 1,
   "metadata": {},
   "outputs": [],
   "source": [
    "import numpy as np\n",
    "import matplotlib.pyplot as plt ###for plotting\n",
    "\n"
   ]
  },
  {
   "cell_type": "markdown",
   "metadata": {},
   "source": [
    "# Random sampling   <a name=\"randomSampling\"></a>\n",
    "\n",
    "Random sampling in numpy can be split up into four main categories - \n",
    "* Simple random data.\n",
    "* Permutations.\n",
    "* Distributions.\n",
    "* Random generator.\n",
    "\n",
    "In this notebook I will discuss each of these categories in detail as well as providing examples of how each of them can be used.\n",
    "I think a good place to start this discussion would be with the simple random data because it is the easiest to understand and will lead us nicely into the other three categories.\n"
   ]
  },
  {
   "cell_type": "markdown",
   "metadata": {},
   "source": [
    "## Simple random data  <a name=\"sampleRandomData\"></a>\n",
    "Simple random data with numpy is very straightforward. It simply outlines a number of different ways that we can generate an array of random numbers on the fly.\n",
    "\n",
    "the first function I will discuss is np.random.rand. "
   ]
  },
  {
   "cell_type": "code",
   "execution_count": 2,
   "metadata": {},
   "outputs": [
    {
     "data": {
      "text/plain": [
       "array([[0.63560669, 0.86220642, 0.83360808, 0.84595989],\n",
       "       [0.0416383 , 0.14463155, 0.76871841, 0.08373254],\n",
       "       [0.54098818, 0.13786115, 0.84996677, 0.6338341 ]])"
      ]
     },
     "execution_count": 2,
     "metadata": {},
     "output_type": "execute_result"
    }
   ],
   "source": [
    "np.random.rand(3,4)"
   ]
  },
  {
   "cell_type": "markdown",
   "metadata": {},
   "source": [
    "This function simply takes 2 parameters. These parameters are known as the 'shape' of the array you would like to return. The first parameter refers to the number of rows you would like and the second parameter refers to the number of columns you would like. You can add as many parameters as you would like, for example if you try adding a \"2,\" parameter in front of the other two parameters, you will then be returned 2 arrays, of 3 rows by 4 columns. \n",
    "This functions return values are in what's called \"uniform distribution\". This means that if we wanted to return a lot of values, each value had the same chance of getting returned. However, in real life scenarios, the \"normal distribution\" might be a better and more realistic fit. In the normal distribution, some values are much more likely to be returned than others. For example, if you wanted to pick a random man out of a million men and calculate his height, you are more likely to return a value of between 5ft8 and 6ft3(depending on geographical location). "
   ]
  },
  {
   "cell_type": "markdown",
   "metadata": {},
   "source": [
    "If you want the values to be returned in a normal distribution, you simply add an n to the end of the above function."
   ]
  },
  {
   "cell_type": "code",
   "execution_count": 3,
   "metadata": {},
   "outputs": [
    {
     "data": {
      "text/plain": [
       "array([[ 0.18777021,  0.44190584, -1.21572193, -0.45397302],\n",
       "       [ 2.23252208,  0.16409519,  0.53128706,  1.05002187],\n",
       "       [ 0.18473472, -1.23501177, -0.17317532, -1.66818839]])"
      ]
     },
     "execution_count": 3,
     "metadata": {},
     "output_type": "execute_result"
    }
   ],
   "source": [
    "np.random.randn(3,4) ### random normal distribution"
   ]
  },
  {
   "cell_type": "markdown",
   "metadata": {},
   "source": [
    "Here I will show you the actual distributionof these functions to give you a better idea of what I mean."
   ]
  },
  {
   "cell_type": "code",
   "execution_count": 4,
   "metadata": {},
   "outputs": [
    {
     "data": {
      "image/png": "[encoded data removed]",
      "text/plain": [
       "<Figure size 432x288 with 1 Axes>"
      ]
     },
     "metadata": {},
     "output_type": "display_data"
    }
   ],
   "source": [
    " x =np.random.rand(1000) ### 1000 random numbers\n",
    "plt.ylabel(\" Frequency \")\n",
    "plt.xlabel(\" Values \")\n",
    "plt.hist(x)\n",
    "plt.show()"
   ]
  },
  {
   "cell_type": "code",
   "execution_count": 5,
   "metadata": {},
   "outputs": [
    {
     "data": {
      "image/png": "[encoded data removed]",
      "text/plain": [
       "<Figure size 432x288 with 1 Axes>"
      ]
     },
     "metadata": {},
     "output_type": "display_data"
    }
   ],
   "source": [
    "x =np.random.randn(1000) ### 1000 random numbers with normal distribution\n",
    "plt.ylabel(\" Frequency \")\n",
    "plt.xlabel(\" Values \") \n",
    "plt.hist(x)\n",
    "plt.show()"
   ]
  },
  {
   "cell_type": "markdown",
   "metadata": {},
   "source": [
    "### Random integers  <a name=\"randomIntegers\"></a>\n",
    "If you want to return a collection of random integers, simply run the following fucntion."
   ]
  },
  {
   "cell_type": "code",
   "execution_count": 6,
   "metadata": {},
   "outputs": [
    {
     "data": {
      "text/plain": [
       "array([6, 6, 5, 6, 6, 5, 6, 5, 6, 5])"
      ]
     },
     "execution_count": 6,
     "metadata": {},
     "output_type": "execute_result"
    }
   ],
   "source": [
    "x = np.random.randint(4,7, size=10) ### Returns 10 random integers between 4 and 7(not incluting 7)\n",
    "x"
   ]
  },
  {
   "cell_type": "code",
   "execution_count": 7,
   "metadata": {},
   "outputs": [
    {
     "data": {
      "image/png": "[encoded data removed]",
      "text/plain": [
       "<Figure size 432x288 with 1 Axes>"
      ]
     },
     "metadata": {},
     "output_type": "display_data"
    }
   ],
   "source": [
    "plt.ylabel(\" Frequency \")\n",
    "plt.xlabel(\" Values \")\n",
    "plt.hist(x)\n",
    "plt.show()"
   ]
  },
  {
   "cell_type": "markdown",
   "metadata": {},
   "source": [
    "With this function, the first parameter refers to the lower bound of values you want returned. This lower bound CAN be returned in the array. The second parameter is the upper bound of the array. This upper bound CANNOT be returned in the array. This is what is known as a half-open interval. "
   ]
  },
  {
   "cell_type": "markdown",
   "metadata": {},
   "source": [
    "### Random floats  <a name=\"randomFloats\"></a>\n",
    "\n",
    "If you want to return a sample of floats, simply run the following function."
   ]
  },
  {
   "cell_type": "code",
   "execution_count": 8,
   "metadata": {},
   "outputs": [
    {
     "data": {
      "text/plain": [
       "array([1.49571877, 1.34778014, 1.49996781])"
      ]
     },
     "execution_count": 8,
     "metadata": {},
     "output_type": "execute_result"
    }
   ],
   "source": [
    "x = np.random.random_sample(3) + 1 ### Returning 3 random floats between 0 and 1, and then adding 1 to each value generated\n",
    "x"
   ]
  },
  {
   "cell_type": "code",
   "execution_count": 9,
   "metadata": {},
   "outputs": [
    {
     "data": {
      "image/png": "[encoded data removed]",
      "text/plain": [
       "<Figure size 432x288 with 1 Axes>"
      ]
     },
     "metadata": {},
     "output_type": "display_data"
    }
   ],
   "source": [
    "plt.ylabel(\" Frequency \")\n",
    "plt.xlabel(\" Values \")\n",
    "plt.hist(x)\n",
    "plt.show()"
   ]
  },
  {
   "cell_type": "markdown",
   "metadata": {},
   "source": [
    "There are many ways to return a collection of floats using numpy. This is my preffered approach because it is very reader friendly. Here, all we are doing is returning 3 random floats. The plus 1 is simple adding 1 to each result generated. This can be done with any mathematical operation(+,-,&,%,/). These operations can also be used in the same way, on all of the above functions"
   ]
  },
  {
   "cell_type": "markdown",
   "metadata": {},
   "source": [
    "### Random choice  <a name=\"randomChoice\"></a>\n",
    "\n",
    "If you would like to return a random sample from a given array, sumply run the choice function."
   ]
  },
  {
   "cell_type": "code",
   "execution_count": 10,
   "metadata": {},
   "outputs": [
    {
     "data": {
      "text/plain": [
       "array([0, 4, 1])"
      ]
     },
     "execution_count": 10,
     "metadata": {},
     "output_type": "execute_result"
    }
   ],
   "source": [
    "x = np.random.choice(5, 3) ### Return 3 integer values between 0 and 5\n",
    "x"
   ]
  },
  {
   "cell_type": "markdown",
   "metadata": {},
   "source": [
    "As you can see, the first parameter is the array that you wish to extract random values out of. In this case, we have just provided a 5, so the function returns values between 1 and 5."
   ]
  },
  {
   "cell_type": "code",
   "execution_count": 11,
   "metadata": {},
   "outputs": [
    {
     "data": {
      "image/png": "[encoded data removed]",
      "text/plain": [
       "<Figure size 432x288 with 1 Axes>"
      ]
     },
     "metadata": {},
     "output_type": "display_data"
    }
   ],
   "source": [
    "plt.ylabel(\" Frequency \")\n",
    "plt.xlabel(\" Values \")\n",
    "plt.hist(x)\n",
    "plt.show()"
   ]
  },
  {
   "cell_type": "markdown",
   "metadata": {},
   "source": [
    "### Conclusion  <a name=\"conclusion1\"></a>\n",
    "These are some of the main functions involved in generating simple random data. Some other functions which I have not talked about here simply involve different ways of generating a selection of random numbers. If you would like to view these other functions for yourself, they can be viewed [here](https://docs.scipy.org/doc/numpy-1.15.1/reference/routines.random.html).\n",
    "\n",
    "Next, I will be talking about the different permutations in numpy random sampling because I feel that is follows on nicely from what was discussed in this topic."
   ]
  },
  {
   "cell_type": "markdown",
   "metadata": {},
   "source": [
    "## Permutations  <a name=\"permutations\"></a>\n",
    "Permutations in numpy can be used to display a range of data in a seemingly random order. The two permutation functions I will be going through here are - \n",
    "\n",
    "* shuffle.\n",
    "* permutation.\n",
    "\n",
    "While these two functions are quite similar, they have a few key differences which we will go through here"
   ]
  },
  {
   "cell_type": "markdown",
   "metadata": {},
   "source": [
    "### Shuffle  <a name=\"shuffle\"></a>\n",
    "Shuffle simply shuffles the elements in an array and returns the array back."
   ]
  },
  {
   "cell_type": "code",
   "execution_count": 12,
   "metadata": {},
   "outputs": [
    {
     "data": {
      "text/plain": [
       "array([0, 1, 2, 3, 4])"
      ]
     },
     "execution_count": 12,
     "metadata": {},
     "output_type": "execute_result"
    }
   ],
   "source": [
    "arr = np.arange(5) ### arr is the range from 0 to 5\n",
    "arr"
   ]
  },
  {
   "cell_type": "code",
   "execution_count": 13,
   "metadata": {},
   "outputs": [
    {
     "data": {
      "text/plain": [
       "array([2, 0, 4, 3, 1])"
      ]
     },
     "execution_count": 13,
     "metadata": {},
     "output_type": "execute_result"
    }
   ],
   "source": [
    "np.random.shuffle(arr) ### takes the array and shuffles it\n",
    "arr"
   ]
  },
  {
   "cell_type": "markdown",
   "metadata": {},
   "source": [
    "As you can see, this functions takes the array and simply shuffles the order of which the values are indexed in the array.\n"
   ]
  },
  {
   "cell_type": "markdown",
   "metadata": {},
   "source": [
    "### Permutation  <a name=\"permutation\"></a>\n",
    "Permutation simply makes a copy of the array and returns an array of the origional elements but in a random order. "
   ]
  },
  {
   "cell_type": "code",
   "execution_count": 14,
   "metadata": {},
   "outputs": [
    {
     "data": {
      "text/plain": [
       "array([3, 2, 4, 1, 0])"
      ]
     },
     "execution_count": 14,
     "metadata": {},
     "output_type": "execute_result"
    }
   ],
   "source": [
    "arr = np.arange(5)\n",
    "\n",
    "np.random.permutation(arr) ### copies the arrat arr and returns its values in a random order"
   ]
  },
  {
   "cell_type": "code",
   "execution_count": 15,
   "metadata": {},
   "outputs": [
    {
     "data": {
      "text/plain": [
       "array([0, 1, 2, 3, 4])"
      ]
     },
     "execution_count": 15,
     "metadata": {},
     "output_type": "execute_result"
    }
   ],
   "source": [
    "arr ### The origional array still intact"
   ]
  },
  {
   "cell_type": "markdown",
   "metadata": {},
   "source": [
    "As you can see, the main difference between the shuffle and permutation finctions is that shuffle actually changes the order of elements in the array, whereas permutation simply makes a copy of the array and returns its elements in a random order while keeping the origional array intact. "
   ]
  },
  {
   "cell_type": "markdown",
   "metadata": {},
   "source": [
    "### Conclusion  <a name=\"conclusion2\"></a>\n",
    "\n",
    "Permutations can be extremely useful in data science and mathematics. The permutation functions which I showed above van easily be used with all the simple random data functions discussed earlier. For example, you can generate a 2D array of what ever shape you like, and randomly shuffle or permutate the elements in that array. These functions would be used frequently in probability and statistics.\n",
    "This leads nicely onto the next topic I want to discuss, distribution. Distribution, in simple english refers to the 'spread' of data and will tie in neatly with all the functions we have looked at so far to give us a much more concrete understanding about the numpy random package."
   ]
  },
  {
   "cell_type": "markdown",
   "metadata": {},
   "source": [
    "## Distributions  <a name=\"distributions\"></a>\n",
    "There are many ways to experiment with the different distributions that numpy provides. Distrubution refers to the 'spread' of data. Distributions are used constantly to represent data. They are used do visualise intrest rate, batting averages in baseball, visualising ROI in finance, and much more.\n",
    "While there are a lot of dirstribution functions in this package, I will be focusing on about 5 of them that I feel will gather a good understanding of this package.\n",
    "\n",
    "The main functions I will be focusing on for this chapter are -\n",
    "* beta.\n",
    "* binomial.\n",
    "* normal.\n",
    "* uniform.\n",
    "* triangular."
   ]
  },
  {
   "cell_type": "markdown",
   "metadata": {},
   "source": [
    "### Beta distribution  <a name=\"betaDistribution\"></a>\n",
    "\n",
    "Beta distribution is one of the more straightforward distributions to use in the package, and will help to understand how the other distributions work. You can visualise the beta distribution as follows."
   ]
  },
  {
   "cell_type": "code",
   "execution_count": 16,
   "metadata": {},
   "outputs": [
    {
     "data": {
      "image/png": "[encoded data removed]",
      "text/plain": [
       "<Figure size 432x288 with 1 Axes>"
      ]
     },
     "metadata": {},
     "output_type": "display_data"
    }
   ],
   "source": [
    "x = np.random.beta(1, 100, size=100)\n",
    "plt.ylabel(\" Frequency \")\n",
    "plt.xlabel(\" Values \")\n",
    "plt.hist(x)\n",
    "plt.show()"
   ]
  },
  {
   "cell_type": "markdown",
   "metadata": {},
   "source": [
    "The function for beta distribution is as follows -\n",
    "![](img/beta.PNG)"
   ]
  },
  {
   "cell_type": "markdown",
   "metadata": {},
   "source": [
    "If you are reading this and you don't really have a background in mathematics, then you may not know what the above function means or even what the above graph represents. I will try and give you a rough explanation in plain english about what is does, using the example I used above, to give you atleast an entry level understanding about what this is all about.\n",
    "\n",
    "The easiest way to understand the beta distribution funcion is -\n",
    "You have b:a odds(chances) of getting a lower number between 0 and 1, where a is the first parameter and b is the second parameter. In the example given above, you can see that a = 1 and b = 100, meaning that I had 100:1 odds of getting a lower number between 0 and 1. You can clearly see that this is true came out at below 0.05. If I entered 5 for a and 1 for b, this would mean that I would have 1:5 odds of getting a lower number, meaning that the graph would still be very skewed, but in the other direction i.e most numbers coming out at closer to 1 than 0. Another better way of saying this would be that for every 5 high numbers we should get 1 low number. "
   ]
  },
  {
   "cell_type": "markdown",
   "metadata": {},
   "source": [
    "Going by this logic, it would be reasonable to assume that if we enter the same value for a and b, that we should have roughly the same amount of low numbers as high numbers, resulting in a uniform distribution. For example, if we enter 1 for a and 1 for b, for every 5 high numbers we should get roughly 1 lower numbers, lets see."
   ]
  },
  {
   "cell_type": "code",
   "execution_count": 17,
   "metadata": {},
   "outputs": [
    {
     "data": {
      "image/png": "[encoded data removed]",
      "text/plain": [
       "<Figure size 432x288 with 1 Axes>"
      ]
     },
     "metadata": {},
     "output_type": "display_data"
    }
   ],
   "source": [
    "x = np.random.beta(1, 1, size=100)\n",
    "plt.ylabel(\" Frequency \")\n",
    "plt.xlabel(\" Values \")\n",
    "plt.hist(x)\n",
    "plt.show()"
   ]
  },
  {
   "cell_type": "markdown",
   "metadata": {},
   "source": [
    "This is by no means an in-depth explanation as the beta distribution is quite complicated but I hope it gives you enough of an understanding to atleast know on a high level what the function does. Also please feel free to experiment with my function. For example, try using higher numbers for when a = b. You will notice the graph starts to look like more of a normal distribution than a uniform one because more and more numbers are being concentrated around the 0.5 mark."
   ]
  },
  {
   "cell_type": "markdown",
   "metadata": {},
   "source": [
    "### Binomial distribution  <a name=\"binomialDistribution\"></a>\n",
    "\n",
    "Binomial distribution can be very useful when visualizing data where there are only two possible outcomes of a specific event. the perfect example to use for this distribution would be a coin flip scenario. The binomial distribution allows us to visualise a sample of random outcomes for when for example a coin is flipped. The function below will explain this better than I can.\n",
    "\n"
   ]
  },
  {
   "cell_type": "code",
   "execution_count": 18,
   "metadata": {},
   "outputs": [
    {
     "data": {
      "text/plain": [
       "array([53, 49, 46, 50, 54, 49, 51, 46, 49, 50, 51, 51, 47, 52, 48, 38, 51,\n",
       "       48, 56, 47, 44, 49, 56, 45, 36, 44, 41, 53, 42, 45, 51, 54, 60, 52,\n",
       "       45, 55, 48, 53, 44, 49, 39, 57, 51, 48, 49, 49, 53, 61, 53, 47, 43,\n",
       "       59, 51, 49, 48, 45, 51, 41, 53, 52, 52, 45, 48, 49, 52, 51, 55, 50,\n",
       "       54, 48, 52, 55, 51, 53, 61, 50, 54, 44, 49, 53, 49, 46, 43, 46, 51,\n",
       "       56, 51, 53, 46, 56, 46, 55, 48, 52, 48, 54, 48, 46, 51, 41, 59, 44,\n",
       "       50, 46, 49, 46, 49, 49, 53, 42, 50, 48, 43, 58, 58, 44, 49, 39, 58,\n",
       "       47, 50, 44, 45, 50, 51, 52, 47, 44, 42, 51, 50, 50, 51, 49, 49, 54,\n",
       "       45, 54, 49, 51, 48, 55, 46, 59, 51, 49, 55, 54, 51, 48, 48, 51, 57,\n",
       "       52, 54, 52, 60, 54, 54, 55, 53, 52, 51, 46, 47, 59, 45, 49, 57, 48,\n",
       "       50, 55, 42, 51, 60, 54, 57, 50, 53, 52, 51, 56, 47, 56, 48, 51, 53,\n",
       "       49, 54, 49, 56, 51, 47, 50, 44, 53, 50, 51, 47, 48, 44, 45, 54, 63,\n",
       "       52, 47, 60, 54, 57, 45, 49, 52, 49, 55, 45, 47, 50, 46, 59, 49, 48,\n",
       "       43, 46, 49, 51, 57, 46, 49, 48, 50, 61, 51, 52, 49, 52, 56, 55, 54,\n",
       "       56, 53, 51, 56, 51, 53, 48, 52, 48, 51, 56, 51, 46, 37, 49, 50, 44,\n",
       "       51, 49, 53, 45, 46, 53, 57, 59, 49, 49, 56, 46, 54, 40, 45, 53, 52,\n",
       "       48, 54, 59, 47, 52, 56, 46, 45, 51, 49, 54, 39, 59, 52, 51, 41, 50,\n",
       "       50, 43, 48, 42, 59, 58, 47, 59, 52, 48, 44, 58, 49, 50, 48, 46, 53,\n",
       "       53, 57, 45, 58, 52, 43, 52, 48, 52, 51, 44, 55, 52, 50, 48, 58, 48,\n",
       "       53, 49, 53, 52, 51, 54, 55, 55, 48, 53, 45, 54, 53, 52, 54, 43, 50,\n",
       "       44, 58, 50, 48, 48, 52, 43, 48, 61, 52, 49, 49, 47, 40, 62, 52, 58,\n",
       "       55, 44, 54, 48, 43, 49, 42, 50, 51, 51, 49, 51, 42, 48, 54, 52, 47,\n",
       "       51, 48, 45, 47, 48, 41, 43, 49, 50, 56, 46, 39, 44, 46, 54, 48, 52,\n",
       "       49, 52, 55, 51, 51, 60, 43, 49, 59, 51, 44, 50, 49, 62, 51, 46, 55,\n",
       "       49, 55, 41, 53, 55, 45, 53, 54, 50, 56, 51, 51, 60, 51, 51, 54, 49,\n",
       "       54, 51, 50, 49, 62, 48, 51, 48, 44, 45, 48, 44, 48, 46, 46, 54, 48,\n",
       "       45, 56, 52, 50, 46, 53, 62, 43, 48, 44, 47, 48, 51, 50, 59, 49, 52,\n",
       "       57, 50, 51, 51, 49, 54, 45, 54, 43, 53, 58, 43, 60, 54, 58, 54, 56,\n",
       "       51, 46, 53, 52, 44, 47, 40, 43, 53, 51, 38, 51, 51, 48, 47, 56, 44,\n",
       "       53, 43, 53, 54, 54, 58, 59, 48, 54, 49, 53, 59, 52, 59, 57, 37, 58,\n",
       "       50, 48, 50, 52, 44, 51, 52, 55, 50, 50, 48, 59, 38, 56, 50, 43, 58,\n",
       "       49, 50, 51, 42, 48, 43, 50, 47, 50, 49, 50, 56, 51, 57, 51, 60, 48,\n",
       "       48, 46, 48, 51, 52, 52, 49, 53, 48, 60, 52, 53, 47, 50, 57, 57, 51,\n",
       "       55, 52, 52, 62, 46, 47, 54, 56, 56, 55, 53, 50, 59, 51, 47, 53, 47,\n",
       "       51, 45, 50, 53, 46, 45, 43, 54, 58, 52, 50, 43, 45, 50, 47, 61, 44,\n",
       "       53, 52, 44, 60, 51, 53, 52, 46, 45, 52, 51, 54, 49, 42, 61, 49, 49,\n",
       "       50, 48, 49, 41, 47, 57, 51, 47, 50, 45, 48, 51, 49, 49, 51, 51, 54,\n",
       "       50, 53, 48, 51, 44, 51, 50, 52, 57, 51, 48, 50, 54, 52, 47, 52, 52,\n",
       "       49, 51, 56, 51, 44, 59, 47, 56, 50, 59, 50, 56, 51, 47, 49, 58, 59,\n",
       "       45, 49, 47, 38, 57, 52, 53, 42, 49, 49, 39, 52, 51, 53, 54, 55, 48,\n",
       "       47, 58, 43, 52, 59, 49, 53, 53, 49, 46, 46, 40, 47, 40, 48, 61, 56,\n",
       "       62, 45, 48, 55, 48, 46, 47, 52, 62, 53, 44, 48, 46, 45, 44, 39, 55,\n",
       "       39, 53, 52, 51, 52, 52, 52, 45, 53, 40, 49, 43, 50, 50, 54, 42, 47,\n",
       "       50, 58, 50, 44, 46, 54, 55, 46, 44, 50, 51, 46, 53, 48, 57, 53, 46,\n",
       "       43, 49, 42, 53, 45, 48, 43, 47, 47, 54, 45, 45, 48, 58, 54, 52, 60,\n",
       "       57, 53, 48, 51, 52, 55, 52, 48, 47, 56, 39, 53, 57, 53, 41, 53, 52,\n",
       "       57, 46, 46, 51, 51, 60, 50, 46, 46, 53, 47, 43, 47, 45, 49, 45, 50,\n",
       "       47, 47, 45, 52, 50, 54, 48, 47, 46, 49, 52, 49, 47, 52, 52, 53, 54,\n",
       "       53, 44, 48, 47, 49, 45, 47, 49, 49, 42, 54, 54, 53, 59, 56, 43, 42,\n",
       "       52, 51, 51, 46, 50, 42, 55, 48, 56, 51, 47, 45, 45, 44, 47, 46, 45,\n",
       "       52, 51, 53, 36, 43, 53, 45, 46, 54, 59, 48, 43, 52, 47, 51, 47, 45,\n",
       "       59, 43, 50, 46, 45, 46, 57, 48, 51, 47, 52, 52, 47, 53, 51, 43, 56,\n",
       "       55, 52, 49, 45, 50, 49, 57, 46, 60, 48, 57, 45, 57, 44, 49, 57, 45,\n",
       "       53, 58, 45, 53, 60, 52, 54, 51, 53, 55, 47, 44, 50, 55, 46, 53, 62,\n",
       "       48, 49, 46, 56, 51, 54, 47, 38, 37, 46, 46, 45, 44, 51, 50, 53, 59,\n",
       "       47, 51, 50, 54, 62, 54, 57, 54, 56, 53, 48, 39, 55, 51, 49, 45, 47,\n",
       "       45, 48, 48, 49, 53, 55, 51, 48, 50, 44, 48, 51, 52, 53, 47, 45, 52,\n",
       "       47, 55, 52, 39, 45, 53, 57, 56, 50, 55, 53, 53, 54, 49, 55, 55, 55,\n",
       "       45, 36, 53, 48, 52, 46, 56, 53, 43, 49, 52, 49, 60, 54])"
      ]
     },
     "execution_count": 18,
     "metadata": {},
     "output_type": "execute_result"
    }
   ],
   "source": [
    "s = np.random.binomial(100, 0.5, 1000) ### 100 coin flips, with a 0.5 chance of getting a heads\n",
    "s"
   ]
  },
  {
   "cell_type": "code",
   "execution_count": 19,
   "metadata": {},
   "outputs": [
    {
     "data": {
      "image/png": "[encoded data removed]",
      "text/plain": [
       "<Figure size 432x288 with 1 Axes>"
      ]
     },
     "metadata": {},
     "output_type": "display_data"
    }
   ],
   "source": [
    "plt.ylabel(\" Frequency \")\n",
    "plt.xlabel(\" Values \")\n",
    "plt.hist(s)\n",
    "plt.show()"
   ]
  },
  {
   "cell_type": "markdown",
   "metadata": {},
   "source": [
    "Here, we can see that for most of the test cases, when the coin was flipped 100 times, it landed on heads almost 50 times. This function can be used to predict the probability of all kinds of things, for exampe, you could test to see the distribution for how many times a dice lands on 6 per 100 rolls. Lets test this 1000 times by putting 1000 in as the third parameter to our function and plot it out."
   ]
  },
  {
   "cell_type": "code",
   "execution_count": 20,
   "metadata": {},
   "outputs": [
    {
     "data": {
      "image/png": "[encoded data removed]",
      "text/plain": [
       "<Figure size 432x288 with 1 Axes>"
      ]
     },
     "metadata": {},
     "output_type": "display_data"
    }
   ],
   "source": [
    "s = np.random.binomial(100, (1/6), 1000) ### 100 dice rolls with 1/6 chance of getting a 6, done 1000 times\n",
    "plt.ylabel(\" Frequency \")\n",
    "plt.xlabel(\" Values \")\n",
    "plt.hist(s)\n",
    "plt.show()"
   ]
  },
  {
   "cell_type": "markdown",
   "metadata": {},
   "source": [
    "This clearly show is, that when a dice is rolled 100 times, the chances are that it will land on a 6 for between 15-20 of those 100 rolls."
   ]
  },
  {
   "cell_type": "markdown",
   "metadata": {},
   "source": [
    "### Normal distribution  <a name=\"normalDistribution\"></a>\n",
    "\n",
    "I touched on normal distribution a couple of times in this notebook, but what really is normal distribution? Well, it is one of the most common naturally occurring distributions and can be used to visualise data that has an average(mean). An example of a normal distribution could be the results of a class in an exam. Depending on how hard the exam was, most students will probably score between 50 and 70 percent, with outliers either side of that value. Take a look at the following function for a better understanding. "
   ]
  },
  {
   "cell_type": "code",
   "execution_count": 21,
   "metadata": {},
   "outputs": [
    {
     "data": {
      "image/png": "[encoded data removed]",
      "text/plain": [
       "<Figure size 432x288 with 1 Axes>"
      ]
     },
     "metadata": {},
     "output_type": "display_data"
    }
   ],
   "source": [
    "mu, sigma = 60, 5 # mean 60 and standard deviation of 5\n",
    "s = np.random.normal(mu, sigma, 1000) ### 1000 being the amount of results\n",
    "plt.ylabel(\" Frequency \")\n",
    "plt.xlabel(\" Results \")\n",
    "plt.hist(s)\n",
    "plt.show()"
   ]
  },
  {
   "cell_type": "markdown",
   "metadata": {},
   "source": [
    "The above example is a normal distribusion for the exam results. In the function, mu is referring to the average, in this case 60%, and sigma is the standard deviation, in this case 5%. What do I mean by standard deviation? Well, simply put it is an expression of how members of a group differ from the average in that group. In this case, I have given the data an standard deviation of 5%. This means that mathematically, 68% of students will have gotten a result between 55% and 65%, or one standard deviation from the mean. It also means that 97% of students will have gotten a result between 50% and 70%, or two standard deviations from the mean. Finally it means that 99.7% of students will have registered a result between 45% and 75%, or three standard deviations from the mean."
   ]
  },
  {
   "cell_type": "markdown",
   "metadata": {},
   "source": [
    "### Uniform distribution  <a name=\"uniformDistribution\"></a>\n",
    "\n",
    "I have also looked at, and even generated some graphs and numbers in uniform distribution because the default dirstribution for random numbers in numpy is uniform. Possibly the easiest distribution to explain, uniform distribution is basically giving each possible outcome the same chance of occurring. An easy way to imaging this would be with the numbers selected during the lottery. Lets assume 6 numbers out of 26 are chosen at random, and lets do this 1000 times."
   ]
  },
  {
   "cell_type": "code",
   "execution_count": 22,
   "metadata": {},
   "outputs": [
    {
     "data": {
      "image/png": "[encoded data removed]",
      "text/plain": [
       "<Figure size 432x288 with 1 Axes>"
      ]
     },
     "metadata": {},
     "output_type": "display_data"
    }
   ],
   "source": [
    "s = np.random.uniform(1, 27, (1000,6)) ## select numbers between 1 and 27, including 1, excluding 27, 1000 times\n",
    "plt.ylabel(\" Frequency \")\n",
    "plt.xlabel(\" Lottery numbers \")\n",
    "plt.hist(s)\n",
    "plt.show()"
   ]
  },
  {
   "cell_type": "markdown",
   "metadata": {},
   "source": [
    "Here, we can clearly see that out of 1000 lottery draws,each number had the same chance of being drawn as every other number."
   ]
  },
  {
   "cell_type": "markdown",
   "metadata": {},
   "source": [
    "### Triangular distribution  <a name=\"triangularDistribution\"></a>\n",
    "\n",
    "Triangular distribution, while not very commonly used, can be very useful for analysing continious data with which we do not know much about. All we need to know is the lower bound, upper bound and mode. What do I mean by lower bound, upper bound and mode? Have a look at this example:\n",
    "\n",
    "Suppose we want to investigate the the result of the sum of two identical dice being rolled 1000 times. We know that the lowest sum we can get is 2, and the highest sum we can get is 12. We also know that the sum of a given dice roll has the highest probability of yielding a 7(1 in 6). Lets plot this out using triangular distribution to see what we get. "
   ]
  },
  {
   "cell_type": "code",
   "execution_count": 23,
   "metadata": {},
   "outputs": [
    {
     "data": {
      "image/png": "[encoded data removed]",
      "text/plain": [
       "<Figure size 432x288 with 1 Axes>"
      ]
     },
     "metadata": {},
     "output_type": "display_data"
    }
   ],
   "source": [
    "h = np.random.triangular(2, 7, 12, 1000) ### 2 being lowe bound, 7 being mode, 12 being upper bound, and 1000 rolls\n",
    "plt.ylabel(\" Frequency \")\n",
    "plt.xlabel(\" Sum \")\n",
    "plt.hist(h)\n",
    "plt.show()"
   ]
  },
  {
   "cell_type": "markdown",
   "metadata": {},
   "source": [
    "Here, we can see that the graph takes the shape of a triangle around the 7. From this graph, we can deduce for example that a sum of 8 came up just under 150/1000 times, or 15%. In reality it is actually 14% which would make this graph correct. We can now calculate the liklihood of each sum coming up for the roll of a dice."
   ]
  },
  {
   "cell_type": "markdown",
   "metadata": {},
   "source": [
    "### Conclusion  <a name=\"conclusion3\"></a>\n",
    "\n",
    "So now that we have gone through sampling random data, data permutaions and now data distributions, we should have a fairly good understanding about the numpy.random package. There are a lot more distributions that you can experiment with if you wish, you can view them all [here](https://docs.scipy.org/doc/numpy-1.15.1/reference/routines.random.html).\n",
    "\n",
    "Now that we have seen all about how we can generate random samples, and the different kinds of random samples we can generate, I think it's time to investigate how the random samples are actually generated behind the scenes."
   ]
  },
  {
   "cell_type": "markdown",
   "metadata": {},
   "source": [
    "## Random generator  <a name=\"randomGenerator\"></a>\n",
    "\n",
    "numpy's random number generator generates pseudorandom numbers from a seed. The generator uses this seed to pick numbers in an order that looks random, but is actually following a sequence. For example the seed could be a pointer to a digit in PI, and the random numbers generated from that seed might just follow allong the sequence returning the next number as the random number. This is a very high level explanation of what a seed is, but is essential information if we want to start investigating the random generator."
   ]
  },
  {
   "cell_type": "markdown",
   "metadata": {},
   "source": [
    "### Random state  <a name=\"randomState\"></a>\n",
    "The random.RandomState returns a new seeded RandomState instance but does not change the existing global RandomState instance that the numpy.random namespace utilises. You have to use the returned RandomState instance to get consistent pseudorandom numbers. If you use the functions in the numpy.random namespace, you will not get consistent pseudorandom numbers because they are pulling from a different RandomState instance than the one you just created. This can sometimes be undesireable because we may want to consistently reproduce the same random numbers."
   ]
  },
  {
   "cell_type": "code",
   "execution_count": 24,
   "metadata": {},
   "outputs": [
    {
     "name": "stdout",
     "output_type": "stream",
     "text": [
      "[[0.61488028 0.16457463]\n",
      " [0.3009913  0.2734489 ]\n",
      " [0.79512662 0.54824225]]\n"
     ]
    }
   ],
   "source": [
    "seededRandom = np.random.RandomState(1009) ### seed 1009\n",
    "# using the seed created always results in the same return\n",
    "print(seededRandom.rand(3,2))"
   ]
  },
  {
   "cell_type": "code",
   "execution_count": 25,
   "metadata": {},
   "outputs": [
    {
     "name": "stdout",
     "output_type": "stream",
     "text": [
      "0.6148802795643854\n",
      "0.16457462524340738\n",
      "0.300991296306903\n"
     ]
    }
   ],
   "source": [
    "seededRandom = np.random.RandomState(1009) ### seed 1009\n",
    "# using the seed created always results in the same return\n",
    "print(seededRandom.rand())\n",
    "print(seededRandom.rand())\n",
    "print(seededRandom.rand())"
   ]
  },
  {
   "cell_type": "markdown",
   "metadata": {},
   "source": [
    "Notice how in the first output of an array, the first three values are the same as the three values that are printed in the second output. This is becuase the numbers are not random, they follow a parallel path. This means that we can now generate the same collection of random numbers whenever we want by using the same seed. This is brilliant for reusability."
   ]
  },
  {
   "cell_type": "markdown",
   "metadata": {},
   "source": [
    "### Seed <a name=\"seed\"></a>\n",
    "\n",
    "This is quite simply a seed generator function. It can change the existing global RandomState instance that the numpy.random namespace utilises. You can do this very easily by writing the following function."
   ]
  },
  {
   "cell_type": "code",
   "execution_count": 26,
   "metadata": {},
   "outputs": [],
   "source": [
    "np.random.seed(5) ### where 5 is the new seed"
   ]
  },
  {
   "cell_type": "markdown",
   "metadata": {},
   "source": [
    "### Get state  <a name=\"getState\"></a>\n",
    "This function returns a tuple representing the internal state of the generator. It will return a string  representing the Mersenne Twister algorithm, as well as a 1-D array of 624 unsigned integers keys. If you wish to know more about the technicalities of the get_state function, feel free to read through the documentation [here](https://docs.scipy.org/doc/numpy/reference/generated/numpy.random.get_state.html#numpy.random.get_state)"
   ]
  },
  {
   "cell_type": "markdown",
   "metadata": {},
   "source": [
    "### Set state  <a name=\"setState\"></a>\n",
    "Can be used if one has reason to manually (re-)set the internal state of the “ ersenne Twister pseudo-random number generating algorithm. If you wish to know more about the technicalities of the set_state function, feel free to read through the documentation [here](https://docs.scipy.org/doc/numpy/reference/generated/numpy.random.set_state.html#numpy.random.set_state)"
   ]
  },
  {
   "cell_type": "markdown",
   "metadata": {},
   "source": [
    "## Conclusion  <a name=\"conclusion4\"></a>\n",
    "\n",
    "I have learned a lot while completing this notebook, not only do I now have a fundamental understanding about the numpy.rand package and the different ways I hope do use it in the future as I continue to learn python programming, but I also got a chance to refresh some of my knowledge on statistics and probability from leaving cert. It was a very interesting experience seeing how the information that I learned back then can be used for real world applications and I hope to get a chance to integrate some more of the fundamental mathematical knowledge I have going forward with this module.\n",
    "\n"
   ]
  },
  {
   "cell_type": "markdown",
   "metadata": {},
   "source": [
    "## References  <a name=\"references\"></a>\n",
    " \n",
    " * [numpy package docs](https://docs.scipy.org/doc/numpy-1.14.1/reference/routines.random.html)\n",
    " * [Beginners guide to numpy](https://towardsdatascience.com/lets-talk-about-numpy-for-datascience-beginners-b8088722309f)\n",
    "\n",
    "Author: *Gary Connelly*"
   ]
  },
  {
   "cell_type": "markdown",
   "metadata": {},
   "source": [
    "\n"
   ]
  },
  {
   "cell_type": "code",
   "execution_count": null,
   "metadata": {},
   "outputs": [],
   "source": []
  }
 ],
 "metadata": {
  "kernelspec": {
   "display_name": "Python 3",
   "language": "python",
   "name": "python3"
  },
  "language_info": {
   "codemirror_mode": {
    "name": "ipython",
    "version": 3
   },
   "file_extension": ".py",
   "mimetype": "text/x-python",
   "name": "python",
   "nbconvert_exporter": "python",
   "pygments_lexer": "ipython3",
   "version": "3.6.6"
  }
 },
 "nbformat": 4,
 "nbformat_minor": 2
}
