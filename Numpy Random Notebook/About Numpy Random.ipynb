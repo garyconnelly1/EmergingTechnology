{
 "cells": [
  {
   "cell_type": "markdown",
   "metadata": {},
   "source": [
    "# Introduction\n",
    "In this notebook I will be discussing the ins and outs of the numpy.random package. Before I begin talking about the different kinds of random numbers that numpy can generate, I think it is important to fitrst have a quick run-through about what numpy actually is.\n",
    "Numpy is one of the most, if not the most powerful packages in python used for scientific or data analytical purposes. Numpy can contain a powerful N-dimensional array object, broadcasting functions, integration of C/C++ and Fortran code and useful linear algebra,  and Fourier transform. However the focus of this notebook will be numpy's random number capabilities.\n",
    "\n"
   ]
  },
  {
   "cell_type": "markdown",
   "metadata": {},
   "source": [
    "### Imports\n",
    "In order to use the numpy package, we must first import it. This is done simply by typing \"import numpy as np\". np is just a namespace, meaning that we will be referring to numpy by using \"np\" from here on out in the program. We will also be needing to import a package that will allow us to plot diagrams later on. "
   ]
  },
  {
   "cell_type": "code",
   "execution_count": 2,
   "metadata": {},
   "outputs": [],
   "source": [
    "import numpy as np\n",
    "import matplotlib.pyplot as plt ###for plotting\n",
    "\n"
   ]
  },
  {
   "cell_type": "markdown",
   "metadata": {},
   "source": [
    "# Random sampling\n",
    "\n",
    "Random sampling in numpy can be split up into four main categories - \n",
    "* Simple random data.\n",
    "* Permutations.\n",
    "* Distributions.\n",
    "* Random generator.\n",
    "\n",
    "In this notebook I will discuss each of these categories in detail as well as providing examples of how each of them can be used.\n",
    "I think a good place to start this discussion would be with the simple random data because it is the easiest to understand and will lead us nicely into the other three categories.\n"
   ]
  },
  {
   "cell_type": "markdown",
   "metadata": {},
   "source": [
    "## Simple random data\n",
    "Simple random data with numpy is very straightforward. It simply outlines a number of different ways that we can generate an array of random numbers on the fly.\n",
    "\n",
    "the first function I will discuss is np.random.rand. "
   ]
  },
  {
   "cell_type": "code",
   "execution_count": 9,
   "metadata": {},
   "outputs": [
    {
     "data": {
      "text/plain": [
       "array([[0.57947318, 0.90326925, 0.7257353 , 0.54248193],\n",
       "       [0.72219722, 0.44148069, 0.08879112, 0.11751222],\n",
       "       [0.25581262, 0.55154602, 0.42445091, 0.23216985]])"
      ]
     },
     "execution_count": 9,
     "metadata": {},
     "output_type": "execute_result"
    }
   ],
   "source": [
    "np.random.rand(3,4)"
   ]
  },
  {
   "cell_type": "markdown",
   "metadata": {},
   "source": [
    "This function simply takes 2 parameters. These parameters are known as the 'shape' of the array you would like to return. The first parameter refers to the number of rows you would like and the second parameter refers to the number of columns you would like. You can add as many parameters as you would like, for example if you try adding a \"2,\" parameter in front of the other two parameters, you will then be returned 2 arrays, of 3 rows by 4 columns. \n",
    "This functions return values are in what's called \"uniform distribution\". This means that if we wanted to return a lot of values, each value had the same chance of getting returned. However, in real life scenarios, the \"normal distribution\" might be a better and more realistic fit. In the normal distribution, some values are much more likely to be returned than others. For example, if you wanted to pick a random man out of a million men and calculate his height, you are more likely to return a value of between 5ft8 and 6ft3(depending on geographical location). "
   ]
  },
  {
   "cell_type": "markdown",
   "metadata": {},
   "source": [
    "If you want the values to be returned in a normal distribution, you simply add an n to the end of the above function."
   ]
  },
  {
   "cell_type": "code",
   "execution_count": 10,
   "metadata": {},
   "outputs": [
    {
     "data": {
      "text/plain": [
       "array([[ 1.28539238, -0.37750092,  1.22870137,  0.859844  ],\n",
       "       [ 1.43028021, -0.45295587, -0.94673218, -1.55553163],\n",
       "       [ 0.16928331, -0.87266284,  1.004274  , -0.48540798]])"
      ]
     },
     "execution_count": 10,
     "metadata": {},
     "output_type": "execute_result"
    }
   ],
   "source": [
    "np.random.randn(3,4) ### random normal distribution"
   ]
  },
  {
   "cell_type": "markdown",
   "metadata": {},
   "source": [
    "Here I will show you the actual distributionof these functions to give you a better idea of what I mean."
   ]
  },
  {
   "cell_type": "code",
   "execution_count": 22,
   "metadata": {},
   "outputs": [
    {
     "data": {
      "image/png": "[encoded data removed]",
      "text/plain": [
       "<Figure size 432x288 with 1 Axes>"
      ]
     },
     "metadata": {},
     "output_type": "display_data"
    }
   ],
   "source": [
    " x =np.random.rand(1000) ### 1000 random numbers\n",
    "plt.ylabel(\" Frequency \")\n",
    "plt.xlabel(\" Values \")\n",
    "plt.hist(x)\n",
    "plt.show()"
   ]
  },
  {
   "cell_type": "code",
   "execution_count": 23,
   "metadata": {},
   "outputs": [
    {
     "data": {
      "image/png": "[encoded data removed]",
      "text/plain": [
       "<Figure size 432x288 with 1 Axes>"
      ]
     },
     "metadata": {},
     "output_type": "display_data"
    }
   ],
   "source": [
    "x =np.random.randn(1000) ### 1000 random numbers with normal distribution\n",
    "plt.ylabel(\" Frequency \")\n",
    "plt.xlabel(\" Values \") \n",
    "plt.hist(x)\n",
    "plt.show()"
   ]
  },
  {
   "cell_type": "markdown",
   "metadata": {},
   "source": [
    "### Random integers\n",
    "If you want to return a collection of random integers, simply run the following fucntion."
   ]
  },
  {
   "cell_type": "code",
   "execution_count": 16,
   "metadata": {},
   "outputs": [
    {
     "data": {
      "text/plain": [
       "array([5, 6, 4, 5, 6, 5, 4, 5, 4, 5])"
      ]
     },
     "execution_count": 16,
     "metadata": {},
     "output_type": "execute_result"
    }
   ],
   "source": [
    "x = np.random.randint(4,7, size=10) ### Returns 10 random integers between 4 and 7(not incluting 7)\n",
    "x"
   ]
  },
  {
   "cell_type": "code",
   "execution_count": 19,
   "metadata": {},
   "outputs": [
    {
     "data": {
      "image/png": "[encoded data removed]",
      "text/plain": [
       "<Figure size 432x288 with 1 Axes>"
      ]
     },
     "metadata": {},
     "output_type": "display_data"
    }
   ],
   "source": [
    "plt.ylabel(\" Frequency \")\n",
    "plt.xlabel(\" Values \")\n",
    "plt.hist(x)\n",
    "plt.show()"
   ]
  },
  {
   "cell_type": "markdown",
   "metadata": {},
   "source": [
    "With this function, the first parameter refers to the lower bound of values you want returned. This lower bound CAN be returned in the array. The second parameter is the upper bound of the array. This upper bound CANNOT be returned in the array. This is what is known as a half-open interval. "
   ]
  },
  {
   "cell_type": "markdown",
   "metadata": {},
   "source": [
    "### Random floats\n",
    "\n",
    "If you want to return a sample of floats, simply run the following function."
   ]
  },
  {
   "cell_type": "code",
   "execution_count": 20,
   "metadata": {},
   "outputs": [
    {
     "data": {
      "text/plain": [
       "array([1.59402517, 1.80277468, 1.36630545])"
      ]
     },
     "execution_count": 20,
     "metadata": {},
     "output_type": "execute_result"
    }
   ],
   "source": [
    "x = np.random.random_sample(3) + 1 ### Returning 3 random floats between 0 and 1, and then adding 1 to each value generated\n",
    "x"
   ]
  },
  {
   "cell_type": "code",
   "execution_count": 21,
   "metadata": {},
   "outputs": [
    {
     "data": {
      "image/png": "[encoded data removed]",
      "text/plain": [
       "<Figure size 432x288 with 1 Axes>"
      ]
     },
     "metadata": {},
     "output_type": "display_data"
    }
   ],
   "source": [
    "plt.ylabel(\" Frequency \")\n",
    "plt.xlabel(\" Values \")\n",
    "plt.hist(x)\n",
    "plt.show()"
   ]
  },
  {
   "cell_type": "markdown",
   "metadata": {},
   "source": [
    "There are many ways to return a collection of floats using numpy. This is my preffered approach because it is very reader friendly. Here, all we are doing is returning 3 random floats. The plus 1 is simple adding 1 to each result generated. This can be done with any mathematical operation(+,-,&,%,/). These operations can also be used in the same way, on all of the above functions"
   ]
  },
  {
   "cell_type": "markdown",
   "metadata": {},
   "source": [
    "### Random choice\n",
    "\n",
    "If you would like to return a random sample from a given array, sumply run the choice function."
   ]
  },
  {
   "cell_type": "code",
   "execution_count": 24,
   "metadata": {},
   "outputs": [
    {
     "data": {
      "text/plain": [
       "array([4, 4, 2])"
      ]
     },
     "execution_count": 24,
     "metadata": {},
     "output_type": "execute_result"
    }
   ],
   "source": [
    "x = np.random.choice(5, 3) ### Return 3 integer values between 0 and 5\n",
    "x"
   ]
  },
  {
   "cell_type": "markdown",
   "metadata": {},
   "source": [
    "As you can see, the first parameter is the array that you wish to extract random values out of. In this case, we have just provided a 5, so the function returns values between 1 and 5."
   ]
  },
  {
   "cell_type": "code",
   "execution_count": 25,
   "metadata": {},
   "outputs": [
    {
     "data": {
      "image/png": "[encoded data removed]",
      "text/plain": [
       "<Figure size 432x288 with 1 Axes>"
      ]
     },
     "metadata": {},
     "output_type": "display_data"
    }
   ],
   "source": [
    "plt.ylabel(\" Frequency \")\n",
    "plt.xlabel(\" Values \")\n",
    "plt.hist(x)\n",
    "plt.show()"
   ]
  },
  {
   "cell_type": "markdown",
   "metadata": {},
   "source": [
    "### Conclusion\n",
    "These are some of the main functions involved in generating simple random data. Some other functions which I have not talked about here simply involve different ways of generating a selection of random numbers. If you would like to view these other functions for yourself, they can be viewed [here](https://docs.scipy.org/doc/numpy-1.15.1/reference/routines.random.html)\n",
    "\n",
    "Next, I will be talking about the different permutations in numpy random sampling because I feel that is follows on nicely from what was discussed in this topic."
   ]
  },
  {
   "cell_type": "markdown",
   "metadata": {},
   "source": [
    "## Permutations\n",
    "Permutations in numpy can be used to display a range of data in a seemingly random order. The two permutation functions I will be going through here are - \n",
    "\n",
    "* shuffle.\n",
    "* permutation.\n",
    "\n",
    "While these two functions are quite similar, they have a few key differences which we will go through here"
   ]
  },
  {
   "cell_type": "markdown",
   "metadata": {},
   "source": [
    "### Shuffle\n",
    "Shuffle simply shuffles the elements in an array and returns the array back."
   ]
  },
  {
   "cell_type": "code",
   "execution_count": 3,
   "metadata": {},
   "outputs": [
    {
     "data": {
      "text/plain": [
       "array([0, 1, 2, 3, 4])"
      ]
     },
     "execution_count": 3,
     "metadata": {},
     "output_type": "execute_result"
    }
   ],
   "source": [
    "arr = np.arange(5) ### arr is the range from 0 to 5\n",
    "arr"
   ]
  },
  {
   "cell_type": "code",
   "execution_count": 4,
   "metadata": {},
   "outputs": [
    {
     "data": {
      "text/plain": [
       "array([4, 3, 1, 0, 2])"
      ]
     },
     "execution_count": 4,
     "metadata": {},
     "output_type": "execute_result"
    }
   ],
   "source": [
    "np.random.shuffle(arr) ### takes the array and shuffles it\n",
    "arr"
   ]
  },
  {
   "cell_type": "markdown",
   "metadata": {},
   "source": [
    "As you can see, this functions takes the array and simply shuffles the order of which the values are indexed in the array.\n"
   ]
  },
  {
   "cell_type": "markdown",
   "metadata": {},
   "source": [
    "### Permutation\n",
    "Permutation simply makes a copy of the array and returns an array of the origional elements but in a random order. "
   ]
  },
  {
   "cell_type": "code",
   "execution_count": 5,
   "metadata": {},
   "outputs": [
    {
     "data": {
      "text/plain": [
       "array([0, 2, 3, 4, 1])"
      ]
     },
     "execution_count": 5,
     "metadata": {},
     "output_type": "execute_result"
    }
   ],
   "source": [
    "arr = np.arange(5)\n",
    "\n",
    "np.random.permutation(arr) ### copies the arrat arr and returns its values in a random order"
   ]
  },
  {
   "cell_type": "code",
   "execution_count": 6,
   "metadata": {},
   "outputs": [
    {
     "data": {
      "text/plain": [
       "array([0, 1, 2, 3, 4])"
      ]
     },
     "execution_count": 6,
     "metadata": {},
     "output_type": "execute_result"
    }
   ],
   "source": [
    "arr ### The origional array still intact"
   ]
  },
  {
   "cell_type": "markdown",
   "metadata": {},
   "source": [
    "As you can see, the main difference between the shuffle and permutation finctions is that shuffle actually changes the order of elements in the array, whereas permutation simply makes a copy of the array and returns its elements in a random order while keeping the origional array intact. "
   ]
  },
  {
   "cell_type": "markdown",
   "metadata": {},
   "source": [
    "### Conclusion\n",
    "\n",
    "Permutations can be extremely useful in data science and mathematics. The permutation functions which I showed above van easily be used with all the simple random data functions discussed earlier. For example, you can generate a 2D array of what ever shape you like, and randomly shuffle or permutate the elements in that array. These functions would be used frequently in probability and statistics.\n",
    "This leads nicely onto the next topic I want to discuss, distribution. Distribution, in simple english refers to the 'spread' of data and will tie in neatly with all the functions we have looked at so far to give us a much more concrete understanding about the numpy random package."
   ]
  },
  {
   "cell_type": "markdown",
   "metadata": {},
   "source": [
    "## Distributions\n",
    "There are many ways to experiment with the different distributions that numpy provides. Distrubution refers to the 'spread' of data. Distributions are used constantly to represent data. They are used do visualise intrest rate, batting averages in baseball, visualising ROI in finance, and much more.\n",
    "While there are a lot of dirstribution functions in this package, I will be focusing on about 5 of them that I feel will gather a good understanding of this package.\n",
    "\n",
    "The main functions I will be focusing on for this chapter are -\n",
    "* beta.\n",
    "* binomial.\n",
    "* exponential.\n",
    "* normal.\n",
    "* uniform.\n",
    "* triangular."
   ]
  },
  {
   "cell_type": "markdown",
   "metadata": {},
   "source": [
    "### Beta distribution\n",
    "\n",
    "Beta distribution is one of the more straightforward distributions to use in the package, and will help to understand how the other distributions work. You can visualise the beta distribution as follows."
   ]
  },
  {
   "cell_type": "code",
   "execution_count": 7,
   "metadata": {},
   "outputs": [
    {
     "data": {
      "image/png": "[encoded data removed]",
      "text/plain": [
       "<Figure size 432x288 with 1 Axes>"
      ]
     },
     "metadata": {},
     "output_type": "display_data"
    }
   ],
   "source": [
    "x = np.random.beta(1, 100, size=100)\n",
    "plt.ylabel(\" Frequency \")\n",
    "plt.xlabel(\" Values \")\n",
    "plt.hist(x)\n",
    "plt.show()"
   ]
  },
  {
   "cell_type": "markdown",
   "metadata": {},
   "source": [
    "The function for beta distribution is as follows -\n",
    "![](img/beta.PNG)"
   ]
  },
  {
   "cell_type": "markdown",
   "metadata": {},
   "source": [
    "If you are reading this and you don't really have a background in mathematics, then you may not know what the above function means or even what the above graph represents. I will try and give you a rough explanation in plain english about what is does, using the example I used above, to give you atleast an entry level understanding about what this is all about.\n",
    "\n",
    "The easiest way to understand the beta distribution funcion is -\n",
    "You have b:a odds(chances) of getting a lower number between 0 and 1, where a is the first parameter and b is the second parameter. In the example given above, you can see that a = 1 and b = 100, meaning that I had 100:1 odds of getting a lower number between 0 and 1. You can clearly see that this is true came out at below 0.05. If I entered 5 for a and 1 for b, this would mean that I would have 1:5 odds of getting a lower number, meaning that the graph would still be very skewed, but in the other direction i.e most numbers coming out at closer to 1 than 0. Another better way of saying this would be that for every 5 high numbers we should get 1 low number. "
   ]
  },
  {
   "cell_type": "markdown",
   "metadata": {},
   "source": [
    "Going by this logic, it would be reasonable to assume that if we enter the same value for a and b, that we should have roughly the same amount of low numbers as high numbers, resulting in a uniform distribution. For example, if we enter 1 for a and 1 for b, for every 5 high numbers we should get roughly 1 lower numbers, lets see."
   ]
  },
  {
   "cell_type": "code",
   "execution_count": 5,
   "metadata": {},
   "outputs": [
    {
     "data": {
      "image/png": "[encoded data removed]",
      "text/plain": [
       "<Figure size 432x288 with 1 Axes>"
      ]
     },
     "metadata": {},
     "output_type": "display_data"
    }
   ],
   "source": [
    "x = np.random.beta(1, 1, size=100)\n",
    "plt.ylabel(\" Frequency \")\n",
    "plt.xlabel(\" Values \")\n",
    "plt.hist(x)\n",
    "plt.show()"
   ]
  },
  {
   "cell_type": "markdown",
   "metadata": {},
   "source": [
    "This is by no means an in-depth explanation as the beta distribution is quite complicated but I hope it gives you enough of an understanding to atleast know on a high level what the function does. Also please feel free to experiment with my function. For example, try using higher numbers for when a = b. You will notice the graph starts to look like more of a normal distribution than a uniform one because more and more numbers are being concentrated around the 0.5 mark."
   ]
  },
  {
   "cell_type": "markdown",
   "metadata": {},
   "source": [
    "### Binomial distribution\n",
    "\n",
    "Binomial distribution can be very useful when visualizing data where there are only two possible outcomes of a specific event. the perfect example to use for this distribution would be a coin flip scenario. The binomial distribution allows us to visualise a sample of random outcomes for when for example a coin is flipped. The function below will explain this better than I can.\n",
    "\n"
   ]
  },
  {
   "cell_type": "code",
   "execution_count": 7,
   "metadata": {},
   "outputs": [
    {
     "data": {
      "text/plain": [
       "array([55, 49, 54, 56, 47, 48, 54, 47, 48, 51, 49, 58, 58, 52, 43, 49, 45,\n",
       "       45, 47, 51, 50, 46, 41, 46, 53, 55, 49, 51, 49, 51, 57, 51, 52, 49,\n",
       "       43, 47, 52, 48, 49, 52, 46, 52, 48, 47, 45, 44, 52, 47, 57, 43, 50,\n",
       "       51, 49, 51, 48, 53, 49, 54, 51, 47, 44, 46, 55, 51, 42, 47, 51, 50,\n",
       "       46, 60, 50, 44, 50, 52, 47, 51, 56, 56, 49, 55, 50, 50, 49, 49, 50,\n",
       "       49, 44, 45, 58, 35, 48, 49, 55, 55, 51, 55, 49, 51, 43, 53, 56, 49,\n",
       "       46, 55, 55, 61, 51, 44, 55, 41, 56, 44, 48, 55, 54, 50, 44, 50, 46,\n",
       "       54, 57, 55, 54, 61, 53, 53, 58, 55, 37, 46, 54, 56, 55, 48, 44, 45,\n",
       "       50, 46, 58, 52, 55, 52, 47, 50, 43, 51, 40, 54, 50, 52, 56, 49, 51,\n",
       "       51, 49, 47, 46, 48, 53, 51, 49, 56, 54, 47, 48, 50, 44, 54, 55, 59,\n",
       "       54, 48, 48, 49, 48, 60, 46, 52, 53, 54, 46, 46, 62, 54, 53, 52, 50,\n",
       "       41, 44, 54, 50, 57, 56, 57, 50, 50, 50, 57, 55, 52, 43, 53, 56, 51,\n",
       "       53, 62, 59, 53, 46, 46, 54, 50, 44, 52, 60, 52, 55, 56, 43, 55, 47,\n",
       "       58, 53, 48, 50, 50, 51, 44, 56, 59, 54, 48, 46, 52, 52, 45, 56, 50,\n",
       "       51, 46, 44, 51, 45, 57, 53, 47, 54, 53, 54, 48, 54, 59, 47, 56, 44,\n",
       "       44, 46, 46, 53, 51, 46, 48, 48, 54, 56, 54, 50, 56, 47, 52, 52, 54,\n",
       "       48, 50, 50, 52, 47, 44, 53, 54, 54, 51, 43, 58, 47, 45, 46, 48, 58,\n",
       "       53, 48, 50, 50, 54, 49, 54, 48, 46, 47, 49, 50, 43, 45, 44, 53, 52,\n",
       "       47, 52, 55, 50, 35, 57, 53, 47, 53, 54, 42, 59, 54, 50, 53, 44, 52,\n",
       "       51, 46, 44, 57, 58, 49, 49, 49, 49, 45, 54, 50, 56, 52, 50, 47, 55,\n",
       "       43, 51, 54, 52, 47, 51, 50, 45, 47, 44, 47, 42, 58, 40, 57, 51, 57,\n",
       "       55, 42, 48, 51, 49, 50, 56, 58, 60, 56, 53, 41, 46, 48, 50, 53, 54,\n",
       "       47, 54, 58, 47, 49, 53, 58, 57, 49, 55, 61, 52, 45, 49, 56, 59, 53,\n",
       "       50, 52, 57, 61, 57, 44, 51, 52, 56, 50, 54, 51, 53, 54, 46, 53, 46,\n",
       "       46, 54, 55, 52, 51, 52, 49, 45, 52, 47, 51, 40, 53, 54, 58, 47, 51,\n",
       "       55, 55, 52, 55, 58, 57, 51, 48, 50, 48, 48, 50, 40, 50, 51, 59, 51,\n",
       "       45, 45, 40, 55, 41, 51, 58, 38, 47, 53, 49, 51, 46, 40, 53, 51, 56,\n",
       "       44, 47, 49, 56, 55, 61, 51, 56, 48, 52, 59, 42, 47, 57, 45, 49, 55,\n",
       "       50, 50, 43, 49, 47, 52, 55, 52, 53, 48, 50, 45, 49, 50, 49, 47, 53,\n",
       "       42, 48, 53, 51, 50, 52, 47, 56, 49, 53, 49, 53, 46, 49, 57, 49, 51,\n",
       "       56, 50, 45, 43, 51, 51, 53, 52, 54, 44, 50, 45, 51, 51, 51, 53, 49,\n",
       "       53, 44, 49, 55, 59, 46, 51, 52, 54, 48, 57, 51, 49, 56, 57, 44, 42,\n",
       "       47, 55, 56, 57, 52, 47, 58, 46, 47, 57, 51, 49, 48, 46, 47, 45, 49,\n",
       "       49, 53, 58, 50, 42, 51, 49, 45, 48, 43, 44, 40, 59, 41, 38, 55, 47,\n",
       "       57, 42, 53, 56, 50, 55, 45, 52, 50, 51, 54, 45, 55, 51, 50, 53, 50,\n",
       "       57, 56, 45, 46, 48, 51, 47, 52, 46, 46, 48, 57, 48, 49, 44, 49, 50,\n",
       "       54, 62, 54, 44, 56, 51, 51, 53, 50, 58, 47, 49, 55, 55, 49, 59, 49,\n",
       "       51, 54, 55, 54, 53, 59, 46, 49, 54, 42, 51, 48, 53, 50, 41, 52, 48,\n",
       "       60, 58, 51, 46, 41, 52, 49, 55, 60, 58, 50, 40, 49, 43, 49, 46, 51,\n",
       "       53, 54, 44, 48, 56, 48, 49, 48, 44, 46, 42, 59, 40, 49, 53, 49, 44,\n",
       "       47, 52, 49, 48, 48, 52, 51, 47, 51, 44, 47, 42, 51, 42, 50, 49, 40,\n",
       "       59, 50, 59, 51, 46, 43, 49, 43, 52, 53, 45, 55, 50, 53, 53, 53, 50,\n",
       "       55, 46, 49, 51, 51, 56, 46, 52, 52, 51, 45, 52, 39, 61, 60, 52, 41,\n",
       "       48, 49, 51, 56, 61, 57, 49, 44, 60, 55, 52, 47, 48, 58, 45, 61, 52,\n",
       "       56, 45, 48, 57, 56, 54, 52, 52, 46, 50, 55, 47, 50, 54, 56, 55, 42,\n",
       "       57, 48, 41, 45, 44, 48, 57, 44, 54, 54, 51, 52, 50, 52, 50, 54, 51,\n",
       "       51, 44, 57, 50, 46, 52, 46, 40, 51, 45, 52, 45, 46, 53, 47, 52, 36,\n",
       "       42, 56, 52, 50, 46, 39, 50, 57, 49, 46, 47, 51, 50, 55, 47, 54, 48,\n",
       "       50, 53, 50, 52, 53, 58, 56, 48, 51, 45, 57, 59, 41, 44, 52, 50, 48,\n",
       "       48, 50, 55, 49, 51, 51, 48, 49, 51, 48, 44, 50, 51, 45, 40, 45, 50,\n",
       "       56, 51, 39, 49, 43, 50, 55, 52, 46, 53, 55, 52, 43, 56, 42, 61, 46,\n",
       "       40, 51, 49, 45, 59, 51, 51, 51, 49, 51, 46, 50, 48, 46, 51, 53, 46,\n",
       "       44, 52, 48, 52, 49, 46, 47, 47, 49, 54, 52, 47, 52, 52, 50, 46, 60,\n",
       "       46, 55, 57, 47, 48, 52, 40, 47, 44, 51, 51, 41, 53, 44, 44, 55, 41,\n",
       "       52, 48, 50, 56, 49, 50, 55, 50, 49, 50, 52, 50, 40, 52, 51, 49, 50,\n",
       "       52, 47, 41, 57, 52, 49, 43, 51, 49, 51, 52, 51, 51, 51, 48, 41, 48,\n",
       "       57, 55, 51, 54, 46, 42, 54, 53, 42, 43, 53, 48, 46, 46, 52, 45, 57,\n",
       "       52, 50, 60, 48, 56, 57, 55, 49, 43, 44, 52, 53, 51, 47, 42, 47, 56,\n",
       "       46, 43, 48, 59, 51, 50, 46, 47, 50, 51, 45, 50, 42, 61])"
      ]
     },
     "execution_count": 7,
     "metadata": {},
     "output_type": "execute_result"
    }
   ],
   "source": [
    "s = np.random.binomial(100, 0.5, 1000) ### 100 coin flips, with a 0.5 chance of getting a heads\n",
    "s"
   ]
  },
  {
   "cell_type": "code",
   "execution_count": 10,
   "metadata": {},
   "outputs": [
    {
     "data": {
      "image/png": "[encoded data removed]",
      "text/plain": [
       "<Figure size 432x288 with 1 Axes>"
      ]
     },
     "metadata": {},
     "output_type": "display_data"
    }
   ],
   "source": [
    "plt.ylabel(\" Frequency \")\n",
    "plt.xlabel(\" Values \")\n",
    "plt.hist(s)\n",
    "plt.show()"
   ]
  },
  {
   "cell_type": "markdown",
   "metadata": {},
   "source": [
    "Here, we can see that for most of the test cases, when the coin was flipped 100 times, it landed on heads almost 50 times. This function can be used to predict the probability of all kinds of things, for exampe, you could test to see the distribution for how many times a dice lands on 6 per 100 rolls. Lets test this 1000 times by putting 1000 in as the third parameter to our function and plot it out."
   ]
  },
  {
   "cell_type": "code",
   "execution_count": 11,
   "metadata": {},
   "outputs": [
    {
     "data": {
      "image/png": "[encoded data removed]",
      "text/plain": [
       "<Figure size 432x288 with 1 Axes>"
      ]
     },
     "metadata": {},
     "output_type": "display_data"
    }
   ],
   "source": [
    "s = np.random.binomial(100, (1/6), 1000) ### 100 dice rolls with 1/6 chance of getting a 6, done 1000 times\n",
    "plt.ylabel(\" Frequency \")\n",
    "plt.xlabel(\" Values \")\n",
    "plt.hist(s)\n",
    "plt.show()"
   ]
  },
  {
   "cell_type": "markdown",
   "metadata": {},
   "source": [
    "This clearly show is, that when a dice is rolled 100 times, the chances are that it will land on a 6 for between 15-20 of those 100 rolls."
   ]
  }
 ],
 "metadata": {
  "kernelspec": {
   "display_name": "Python 3",
   "language": "python",
   "name": "python3"
  },
  "language_info": {
   "codemirror_mode": {
    "name": "ipython",
    "version": 3
   },
   "file_extension": ".py",
   "mimetype": "text/x-python",
   "name": "python",
   "nbconvert_exporter": "python",
   "pygments_lexer": "ipython3",
   "version": "3.6.5"
  }
 },
 "nbformat": 4,
 "nbformat_minor": 2
}
