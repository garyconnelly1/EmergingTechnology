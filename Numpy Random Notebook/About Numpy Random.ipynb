{
 "cells": [
  {
   "cell_type": "markdown",
   "metadata": {},
   "source": [
    "# Introduction\n",
    "In this notebook I will be discussing the ins and outs of the numpy.random package. Before I begin talking about the different kinds of random numbers that numpy can generate, I think it is important to fitrst have a quick run-through about what numpy actually is.\n",
    "Numpy is one of the most, if not the most powerful packages in python used for scientific or data analytical purposes. Numpy can contain a powerful N-dimensional array object, broadcasting functions, integration of C/C++ and Fortran code and useful linear algebra,  and Fourier transform. However the focus of this notebook will be numpy's random number capabilities.\n",
    "\n"
   ]
  },
  {
   "cell_type": "markdown",
   "metadata": {},
   "source": [
    "### Imports\n",
    "In order to use the numpy package, we must first import it. This is done simply by typing \"import numpy as np\". np is just a namespace, meaning that we will be referring to numpy by using \"np\" from here on out in the program. We will also be needing to import a package that will allow us to plot diagrams later on. "
   ]
  },
  {
   "cell_type": "code",
   "execution_count": 8,
   "metadata": {},
   "outputs": [],
   "source": [
    "import numpy as np\n",
    "import matplotlib.pyplot as plt ###for plotting\n",
    "\n"
   ]
  },
  {
   "cell_type": "markdown",
   "metadata": {},
   "source": [
    "# Random sampling\n",
    "\n",
    "Random sampling in numpy can be split up into four main categories - \n",
    "* Simple random data.\n",
    "* Permutations.\n",
    "* Distributions.\n",
    "* Random generator.\n",
    "\n",
    "In this notebook I will discuss each of these categories in detail as well as providing examples of how each of them can be used.\n",
    "I think a good place to start this discussion would be with the simple random data because it is the easiest to understand and will lead us nicely into the other three categories.\n"
   ]
  },
  {
   "cell_type": "markdown",
   "metadata": {},
   "source": [
    "## Simple random data\n",
    "Simple random data with numpy is very straightforward. It simply outlines a number of different ways that we can generate an array of random numbers on the fly.\n",
    "\n",
    "the first function I will discuss is np.random.rand. "
   ]
  },
  {
   "cell_type": "code",
   "execution_count": 9,
   "metadata": {},
   "outputs": [
    {
     "data": {
      "text/plain": [
       "array([[0.57947318, 0.90326925, 0.7257353 , 0.54248193],\n",
       "       [0.72219722, 0.44148069, 0.08879112, 0.11751222],\n",
       "       [0.25581262, 0.55154602, 0.42445091, 0.23216985]])"
      ]
     },
     "execution_count": 9,
     "metadata": {},
     "output_type": "execute_result"
    }
   ],
   "source": [
    "np.random.rand(3,4)"
   ]
  },
  {
   "cell_type": "markdown",
   "metadata": {},
   "source": [
    "This function simply takes 2 parameters. These parameters are known as the 'shape' of the array you would like to return. The first parameter refers to the number of rows you would like and the second parameter refers to the number of columns you would like. You can add as many parameters as you would like, for example if you try adding a \"2,\" parameter in front of the other two parameters, you will then be returned 2 arrays, of 3 rows by 4 columns. \n",
    "This functions return values are in what's called \"uniform distribution\". This means that if we wanted to return a lot of values, each value had the same chance of getting returned. However, in real life scenarios, the \"normal distribution\" might be a better and more realistic fit. In the normal distribution, some values are much more likely to be returned than others. For example, if you wanted to pick a random man out of a million men and calculate his height, you are more likely to return a value of between 5ft8 and 6ft3(depending on geographical location). "
   ]
  },
  {
   "cell_type": "markdown",
   "metadata": {},
   "source": [
    "If you want the values to be returned in a normal distribution, you simply add an n to the end of the above function."
   ]
  },
  {
   "cell_type": "code",
   "execution_count": 10,
   "metadata": {},
   "outputs": [
    {
     "data": {
      "text/plain": [
       "array([[ 1.28539238, -0.37750092,  1.22870137,  0.859844  ],\n",
       "       [ 1.43028021, -0.45295587, -0.94673218, -1.55553163],\n",
       "       [ 0.16928331, -0.87266284,  1.004274  , -0.48540798]])"
      ]
     },
     "execution_count": 10,
     "metadata": {},
     "output_type": "execute_result"
    }
   ],
   "source": [
    "np.random.randn(3,4) ### random normal distribution"
   ]
  },
  {
   "cell_type": "markdown",
   "metadata": {},
   "source": [
    "Here I will show you the actual distributionof these functions to give you a better idea of what I mean."
   ]
  },
  {
   "cell_type": "code",
   "execution_count": 22,
   "metadata": {},
   "outputs": [
    {
     "data": {
      "image/png": "[encoded data removed]",
      "text/plain": [
       "<Figure size 432x288 with 1 Axes>"
      ]
     },
     "metadata": {},
     "output_type": "display_data"
    }
   ],
   "source": [
    " x =np.random.rand(1000) ### 1000 random numbers\n",
    "plt.ylabel(\" Frequency \")\n",
    "plt.xlabel(\" Values \")\n",
    "plt.hist(x)\n",
    "plt.show()"
   ]
  },
  {
   "cell_type": "code",
   "execution_count": 15,
   "metadata": {},
   "outputs": [
    {
     "data": {
      "image/png": "[encoded data removed]",
      "text/plain": [
       "<Figure size 432x288 with 1 Axes>"
      ]
     },
     "metadata": {},
     "output_type": "display_data"
    }
   ],
   "source": [
    "x =np.random.randn(1000) ### 1000 random numbers with normal distribution\n",
    "    \n",
    "plt.hist(x)\n",
    "plt.show()"
   ]
  },
  {
   "cell_type": "markdown",
   "metadata": {},
   "source": [
    "### Random integers\n",
    "If you want to return a collection of random integers, simply run the following fucntion."
   ]
  },
  {
   "cell_type": "code",
   "execution_count": 16,
   "metadata": {},
   "outputs": [
    {
     "data": {
      "text/plain": [
       "array([5, 6, 4, 5, 6, 5, 4, 5, 4, 5])"
      ]
     },
     "execution_count": 16,
     "metadata": {},
     "output_type": "execute_result"
    }
   ],
   "source": [
    "x = np.random.randint(4,7, size=10) ### Returns 10 random integers between 4 and 7(not incluting 7)\n",
    "x"
   ]
  },
  {
   "cell_type": "code",
   "execution_count": 19,
   "metadata": {},
   "outputs": [
    {
     "data": {
      "image/png": "[encoded data removed]",
      "text/plain": [
       "<Figure size 432x288 with 1 Axes>"
      ]
     },
     "metadata": {},
     "output_type": "display_data"
    }
   ],
   "source": [
    "plt.ylabel(\" Frequency \")\n",
    "plt.xlabel(\" Values \")\n",
    "plt.hist(x)\n",
    "plt.show()"
   ]
  },
  {
   "cell_type": "markdown",
   "metadata": {},
   "source": [
    "With this function, the first parameter refers to the lower bound of values you want returned. This lower bound CAN be returned in the array. The second parameter is the upper bound of the array. This upper bound CANNOT be returned in the array. This is what is known as a half-open interval. "
   ]
  },
  {
   "cell_type": "markdown",
   "metadata": {},
   "source": [
    "### Random floats\n",
    "\n",
    "If you want to return a sample of floats, simply run the following function."
   ]
  },
  {
   "cell_type": "code",
   "execution_count": 20,
   "metadata": {},
   "outputs": [
    {
     "data": {
      "text/plain": [
       "array([1.59402517, 1.80277468, 1.36630545])"
      ]
     },
     "execution_count": 20,
     "metadata": {},
     "output_type": "execute_result"
    }
   ],
   "source": [
    "x = np.random.random_sample(3) + 1 ### Returning 3 random floats between 0 and 1, and then adding 1 to each value generated\n",
    "x"
   ]
  },
  {
   "cell_type": "code",
   "execution_count": 21,
   "metadata": {},
   "outputs": [
    {
     "data": {
      "image/png": "[encoded data removed]",
      "text/plain": [
       "<Figure size 432x288 with 1 Axes>"
      ]
     },
     "metadata": {},
     "output_type": "display_data"
    }
   ],
   "source": [
    "plt.ylabel(\" Frequency \")\n",
    "plt.xlabel(\" Values \")\n",
    "plt.hist(x)\n",
    "plt.show()"
   ]
  },
  {
   "cell_type": "markdown",
   "metadata": {},
   "source": [
    "There are many ways to return a collection of floats using numpy. This is my preffered approach because it is very reader friendly. Here, all we are doing is returning 3 random floats. The plus 1 is simple adding 1 to each result generated. This can be done with any mathematical operation(+,-,&,%,/). These operations can also be used in the same way, on all of the above functions"
   ]
  },
  {
   "cell_type": "markdown",
   "metadata": {},
   "source": [
    "### Random choice\n",
    "\n",
    "If you would like to return a random sample from a given array, sumply run the choice function."
   ]
  },
  {
   "cell_type": "code",
   "execution_count": 13,
   "metadata": {},
   "outputs": [
    {
     "data": {
      "text/plain": [
       "array([3, 1, 2])"
      ]
     },
     "execution_count": 13,
     "metadata": {},
     "output_type": "execute_result"
    }
   ],
   "source": [
    "np.random.choice(5, 3) ### Return 3 integer values between 0 and 5"
   ]
  },
  {
   "cell_type": "markdown",
   "metadata": {},
   "source": [
    "As you can see, the first parameter is the array that you wish to extract random values out of. In this case, we have just provided a 5, so the function returns values between 1 and 5."
   ]
  }
 ],
 "metadata": {
  "kernelspec": {
   "display_name": "Python 3",
   "language": "python",
   "name": "python3"
  },
  "language_info": {
   "codemirror_mode": {
    "name": "ipython",
    "version": 3
   },
   "file_extension": ".py",
   "mimetype": "text/x-python",
   "name": "python",
   "nbconvert_exporter": "python",
   "pygments_lexer": "ipython3",
   "version": "3.6.5"
  }
 },
 "nbformat": 4,
 "nbformat_minor": 2
}
