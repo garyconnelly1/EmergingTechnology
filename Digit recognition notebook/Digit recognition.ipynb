{
 "cells": [
  {
   "cell_type": "markdown",
   "metadata": {},
   "source": [
    "\n",
    "# Digit Recognition\n"
   ]
  },
  {
   "cell_type": "markdown",
   "metadata": {},
   "source": [
    "## Introduction"
   ]
  },
  {
   "cell_type": "markdown",
   "metadata": {},
   "source": [
    "This notebook is concerned with explaining the Digit recognition script that I wrote in relation to the MNIST dataset.\n",
    "In the previous notebook, I went through how to read in the MNIST dataset and also how to save the images to the comoputers file system. I have re used some of that code in this script, so this notebook will mainly be in relation to the parts of the script that have nothing to do with that."
   ]
  },
  {
   "cell_type": "markdown",
   "metadata": {},
   "source": [
    "Artificial neural networks are essentially computing systems that were designed based on the biological neural networks found in animals. If you wish to know more about the theory behind neural networks please visit [wikipedia](https://en.wikipedia.org/wiki/Artificial_neural_network)."
   ]
  },
  {
   "cell_type": "markdown",
   "metadata": {},
   "source": [
    "Each neural network has at least one input layer, one hidden layer and one output layer. Data comes in through the input layer, then an activation fucnction is executed on the data in the the hidden layer/s, and finally the data is is then output. The particular kind of neural network we will be working with is called a \"fully connected\", or \"dense\" network, because each node of each layer is connected to every node in the next layer. This will make more sense when I start to go through the program."
   ]
  },
  {
   "cell_type": "markdown",
   "metadata": {},
   "source": [
    "![](img/neural.jpeg)\n"
   ]
  },
  {
   "cell_type": "markdown",
   "metadata": {},
   "source": [
    "## Imports\n",
    "\n",
    "In order to be able to use the tensorflow and keras imports, I needed to set up a tensorflow environment using anaconda. For more information on this please visit [Tensor flow environment set up](https://towardsdatascience.com/setup-an-environment-for-machine-learning-and-deep-learning-with-anaconda-in-windows-5d7134a3db10)."
   ]
  },
  {
   "cell_type": "code",
   "execution_count": 1,
   "metadata": {},
   "outputs": [],
   "source": [
    "import gzip ### For reading in the gzip files.\n",
    "import numpy as np ### For work with arrays.\n",
    "import tensorflow as tf ### For using keras.\n"
   ]
  },
  {
   "cell_type": "code",
   "execution_count": 2,
   "metadata": {},
   "outputs": [
    {
     "name": "stderr",
     "output_type": "stream",
     "text": [
      "Using TensorFlow backend.\n"
     ]
    }
   ],
   "source": [
    "import numpy as np\n",
    "import keras as kr ### For building and operating the model.\n",
    "import sklearn.preprocessing as pre ### For training.\n",
    "import sys ### For IO ans system exit(0).\n",
    "import cv2 ### For reading and writing images.\n",
    "from PIL import Image ### For manipulating images()"
   ]
  },
  {
   "cell_type": "code",
   "execution_count": null,
   "metadata": {},
   "outputs": [],
   "source": []
  }
 ],
 "metadata": {
  "kernelspec": {
   "display_name": "Python 3",
   "language": "python",
   "name": "python3"
  },
  "language_info": {
   "codemirror_mode": {
    "name": "ipython",
    "version": 3
   },
   "file_extension": ".py",
   "mimetype": "text/x-python",
   "name": "python",
   "nbconvert_exporter": "python",
   "pygments_lexer": "ipython3",
   "version": "3.6.6"
  }
 },
 "nbformat": 4,
 "nbformat_minor": 2
}
