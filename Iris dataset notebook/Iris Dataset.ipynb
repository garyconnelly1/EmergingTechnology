{
 "cells": [
  {
   "cell_type": "markdown",
   "metadata": {},
   "source": [
    "# Introduction\n",
    "This notebook is concerned with Fisher's Iris data set. In this notebook, I will be explaining the dataset itself, as well as creating easy on the eye visualisations of the dataset. I will also be discussing why it is difficult to write an algorithm that will accurately separate the three species of iris based on the variables in the dataset."
   ]
  },
  {
   "cell_type": "markdown",
   "metadata": {},
   "source": [
    "## What is the Iris dataset?\n",
    "The Iris dataset was created by British statistician and biologist [Ronald Fisher.](https://en.wikipedia.org/wiki/Ronald_Fisher)\n",
    "in 1936. The dataset itself consists of 150 samples of three species of Iris(setosa,virginica, virsicolor), with 50 samples for each species. Of this dataset, four features were measured from each sample: sepal length, sepal width, petal length, and petal width. This dataset has become a very popular test case in recent years for the techniques used in machine learning. Lets take a look at the actual dataset to get a better understanding."
   ]
  },
  {
   "cell_type": "markdown",
   "metadata": {},
   "source": [
    "## Imports"
   ]
  },
  {
   "cell_type": "code",
   "execution_count": 1,
   "metadata": {},
   "outputs": [],
   "source": [
    "import numpy as np\n",
    "import pandas as pd ### so we can read the data from an external url\n",
    "import seaborn as sns ### so we can style the plots\n",
    "sns.set_palette('husl') ### set the default seaborn style to husl\n",
    "import matplotlib.pyplot as plt ### get the plotting package\n",
    "%matplotlib inline"
   ]
  },
  {
   "cell_type": "markdown",
   "metadata": {},
   "source": [
    "## Get the dataset"
   ]
  },
  {
   "cell_type": "code",
   "execution_count": 2,
   "metadata": {},
   "outputs": [],
   "source": [
    "url = \"https://raw.githubusercontent.com/jbrownlee/Datasets/master/iris.csv\"\n",
    "headings = ['sepal-length', 'sepal-width', 'petal-length', 'petal-width', 'species']\n",
    "dataFrame = pd.read_csv(url, names=headings)"
   ]
  },
  {
   "cell_type": "markdown",
   "metadata": {},
   "source": [
    "## Data observa"
   ]
  }
 ],
 "metadata": {
  "kernelspec": {
   "display_name": "Python 3",
   "language": "python",
   "name": "python3"
  },
  "language_info": {
   "codemirror_mode": {
    "name": "ipython",
    "version": 3
   },
   "file_extension": ".py",
   "mimetype": "text/x-python",
   "name": "python",
   "nbconvert_exporter": "python",
   "pygments_lexer": "ipython3",
   "version": "3.6.5"
  }
 },
 "nbformat": 4,
 "nbformat_minor": 2
}
