{
 "cells": [
  {
   "cell_type": "markdown",
   "metadata": {},
   "source": [
    "# Table of contents\n",
    "\n",
    "* [Introduction](#introduction)\n",
    "* [This Notebook](#thisBook)\n",
    "    - [Reading from the training file](#readFromFile)\n",
    "    - [Investigating the file](#investigateFile)\n",
    "    - [Display the first image](#displayImage)\n",
    "    - [Reading from labels file](#readLabels)\n",
    "    - [Saving the images](#saveImages)"
   ]
  },
  {
   "cell_type": "markdown",
   "metadata": {},
   "source": [
    "# Introduction <a name=\"introduction\"></a>\n",
    "\n",
    "The MNIST dataset is a very popular dataset of handwritten numbers that are often used to train various image processing systems. However, to be able to use this dataset for machine learning experimentation, we must first get the actual training and test images onto our system. This dataset contains 60,000 training images and 10,000 testing images. The files containing the images can be located and downloaded from the [MNIST website](http://yann.lecun.com/exdb/mnist/) in gzip form. However, because the images are not in any standard image rendering format, we must write our own program to be able to read the images and save them in the .png format. "
   ]
  },
  {
   "cell_type": "markdown",
   "metadata": {},
   "source": [
    "\n",
    "![](images/dataset.PNG)"
   ]
  },
  {
   "cell_type": "markdown",
   "metadata": {},
   "source": [
    "# This Notebook <a name=\"thisBook\"></a>\n",
    "\n",
    "In this notebook, I will walk through the steps necessary to read the data in from the files and unzip them. I will then need to create a function that can read the individual bits from the file and process them in such a way so that the images can be saved on this system. The first step is to download the the 4 necessary gzip files from the MNIST website."
   ]
  },
  {
   "cell_type": "markdown",
   "metadata": {},
   "source": [
    "![](images/files.PNG)"
   ]
  },
  {
   "cell_type": "markdown",
   "metadata": {},
   "source": [
    "The first two files contain the training image and the training labels for the images respectively. The second two files contain the test images and test labels for the images respectively."
   ]
  },
  {
   "cell_type": "markdown",
   "metadata": {},
   "source": [
    "## Reading from the training file <a name=\"readFromFile\"></a>\n",
    "\n",
    "The first thing we need to do in order to read from these files is to import gzip so that we can unzip the file we want to read."
   ]
  },
  {
   "cell_type": "code",
   "execution_count": 1,
   "metadata": {},
   "outputs": [],
   "source": [
    "import gzip ### this package allows us to unzip the file for reading\n"
   ]
  },
  {
   "cell_type": "markdown",
   "metadata": {},
   "source": [
    "We then need to open the selected file, and read the bits from it, storing them in a variable called file_content."
   ]
  },
  {
   "cell_type": "code",
   "execution_count": 2,
   "metadata": {},
   "outputs": [],
   "source": [
    "with gzip.open('data/train-images-idx3-ubyte.gz', 'rb') as f: ### opens the train images file\n",
    "    file_content = f.read() ### loads the bits from the file into the file_content variable"
   ]
  },
  {
   "cell_type": "markdown",
   "metadata": {},
   "source": [
    "## Investigating the file <a name=\"investigateFile\"></a>"
   ]
  },
  {
   "cell_type": "markdown",
   "metadata": {},
   "source": [
    "First, we shoud check to see the type of data that we just read.\n"
   ]
  },
  {
   "cell_type": "code",
   "execution_count": 4,
   "metadata": {},
   "outputs": [
    {
     "data": {
      "text/plain": [
       "bytes"
      ]
     },
     "execution_count": 4,
     "metadata": {},
     "output_type": "execute_result"
    }
   ],
   "source": [
    "type(file_content) ### checks the type of the variable file_content"
   ]
  },
  {
   "cell_type": "markdown",
   "metadata": {},
   "source": [
    "As we can see the file_content variable is of type bytes."
   ]
  },
  {
   "cell_type": "markdown",
   "metadata": {},
   "source": [
    "Now we can view the first byte of the file."
   ]
  },
  {
   "cell_type": "code",
   "execution_count": 5,
   "metadata": {},
   "outputs": [
    {
     "data": {
      "text/plain": [
       "b'\\x00\\x00\\x08\\x03'"
      ]
     },
     "execution_count": 5,
     "metadata": {},
     "output_type": "execute_result"
    }
   ],
   "source": [
    "file_content[0:4] ### reads the first 4 bits, first byte and outputs it as hexidecimal"
   ]
  },
  {
   "cell_type": "code",
   "execution_count": 6,
   "metadata": {},
   "outputs": [
    {
     "data": {
      "text/plain": [
       "2051"
      ]
     },
     "execution_count": 6,
     "metadata": {},
     "output_type": "execute_result"
    }
   ],
   "source": [
    "int.from_bytes(file_content[0:4], byteorder='big')  ### converts the number from hexidecimal to an int for readability "
   ]
  },
  {
   "cell_type": "markdown",
   "metadata": {},
   "source": [
    "The 'byteorder='big'' just means that the bytes should be read in big endian. For more information about big and little endian please see the following wikipedia page. [Endianness](https://en.wikipedia.org/wiki/Endianness)"
   ]
  },
  {
   "cell_type": "markdown",
   "metadata": {},
   "source": [
    "The documentation tells us, on the MNIST website that the first 4 bits are referred to as the 'magic' number. The next four bits tell us how many images are contained in the file."
   ]
  },
  {
   "cell_type": "code",
   "execution_count": 8,
   "metadata": {},
   "outputs": [
    {
     "data": {
      "text/plain": [
       "60000"
      ]
     },
     "execution_count": 8,
     "metadata": {},
     "output_type": "execute_result"
    }
   ],
   "source": [
    "int.from_bytes(file_content[4:8], byteorder=\"big\") ### Second byte in the file tells us how many items are in the file"
   ]
  },
  {
   "cell_type": "markdown",
   "metadata": {},
   "source": [
    "As we can see, there are 60,000 images in this file."
   ]
  },
  {
   "cell_type": "markdown",
   "metadata": {},
   "source": [
    "After this, the next two bytes in the file, according to the documentation will tell us how many rows and how many columns each image should have."
   ]
  },
  {
   "cell_type": "code",
   "execution_count": 11,
   "metadata": {},
   "outputs": [
    {
     "data": {
      "text/plain": [
       "28"
      ]
     },
     "execution_count": 11,
     "metadata": {},
     "output_type": "execute_result"
    }
   ],
   "source": [
    "int.from_bytes(file_content[8:12], byteorder='big') ### To tell us how many rows of pixels each image should have"
   ]
  },
  {
   "cell_type": "code",
   "execution_count": 12,
   "metadata": {},
   "outputs": [
    {
     "data": {
      "text/plain": [
       "28"
      ]
     },
     "execution_count": 12,
     "metadata": {},
     "output_type": "execute_result"
    }
   ],
   "source": [
    "int.from_bytes(file_content[12:16], byteorder='big') ### To tell us how many rows of pixels each image should have"
   ]
  },
  {
   "cell_type": "markdown",
   "metadata": {},
   "source": [
    "The next byte is where our first image should start. As we learned in one of our previous lectures, each image should have 784 bits. This would mean that our first image starts at bit 16 and ends at bit 800(784 + 16). This means that we should now be able to read the first image in the dataset."
   ]
  },
  {
   "cell_type": "code",
   "execution_count": 13,
   "metadata": {},
   "outputs": [],
   "source": [
    "l = file_content[16:800] ### l = all the bits in the file between 16 and 800."
   ]
  },
  {
   "cell_type": "markdown",
   "metadata": {},
   "source": [
    "We now need to reshape this variable using numpy, into (28\\*28) grids so that we can plot them on a canvas and visualize the image. "
   ]
  },
  {
   "cell_type": "markdown",
   "metadata": {},
   "source": [
    "To do this, we must import the numpy package."
   ]
  },
  {
   "cell_type": "code",
   "execution_count": 15,
   "metadata": {},
   "outputs": [],
   "source": [
    "import numpy as np ### importing the numpy package\n",
    "\n",
    "image = ~np.array(list(file_content[16:800])).reshape(28,28).astype(np.uint8) ### reshape the list into a 28*28 grid image"
   ]
  },
  {
   "cell_type": "markdown",
   "metadata": {},
   "source": [
    "## Displaying the first image <a name=\"displayImage\"></a>"
   ]
  },
  {
   "cell_type": "markdown",
   "metadata": {},
   "source": [
    "Now we need to import matplotlib so that we can plot the image variable."
   ]
  },
  {
   "cell_type": "code",
   "execution_count": 16,
   "metadata": {},
   "outputs": [],
   "source": [
    "%matplotlib inline\n",
    "import matplotlib.pyplot as plt ### importing matplotlib so we can display the image\n"
   ]
  },
  {
   "cell_type": "markdown",
   "metadata": {},
   "source": [
    "Now all we need to do is display the image using the 'imshow' command."
   ]
  },
  {
   "cell_type": "code",
   "execution_count": 17,
   "metadata": {},
   "outputs": [
    {
     "data": {
      "text/plain": [
       "<matplotlib.image.AxesImage at 0x2a6929daf60>"
      ]
     },
     "execution_count": 17,
     "metadata": {},
     "output_type": "execute_result"
    },
    {
     "data": {
      "image/png": "[encoded data removed]",
      "text/plain": [
       "<Figure size 432x288 with 1 Axes>"
      ]
     },
     "metadata": {},
     "output_type": "display_data"
    }
   ],
   "source": [
    "plt.imshow(image, cmap='gray') ### display the image "
   ]
  },
  {
   "cell_type": "markdown",
   "metadata": {},
   "source": [
    "Now we can finally see the first image rendered onto the screen. We can clearly see a very poorly written '5'. We can test if this truely worked by comparing it to the first label in the labels file, as they should match up."
   ]
  },
  {
   "cell_type": "markdown",
   "metadata": {},
   "source": [
    "To do that we need to use gzip to read the labels file."
   ]
  },
  {
   "cell_type": "markdown",
   "metadata": {},
   "source": [
    "## Reading the labels file <a name=\"readLabels\"></a>\n"
   ]
  },
  {
   "cell_type": "code",
   "execution_count": 18,
   "metadata": {},
   "outputs": [],
   "source": [
    "with gzip.open('data/train-labels-idx1-ubyte.gz', 'rb') as f: ### use gzip to open the labels file\n",
    "    labels = f.read() ### read the bits from the file into the 'labels' variable"
   ]
  },
  {
   "cell_type": "markdown",
   "metadata": {},
   "source": [
    "Once again, the documentation tells us that the first two bytes contain the bits for the magic number and number of items respectively. If this file was read in correctly, the number items in this file should match the number of items in the images file."
   ]
  },
  {
   "cell_type": "code",
   "execution_count": 19,
   "metadata": {},
   "outputs": [
    {
     "data": {
      "text/plain": [
       "60000"
      ]
     },
     "execution_count": 19,
     "metadata": {},
     "output_type": "execute_result"
    }
   ],
   "source": [
    "myInt = int.from_bytes(labels[4:8], byteorder=\"big\") ### reading the second byte which should contain the number of items in the file\n",
    "myInt ### output the number"
   ]
  },
  {
   "cell_type": "markdown",
   "metadata": {},
   "source": [
    "As we can see, the number of items in the labels file is identical to the number of items in the images file."
   ]
  },
  {
   "cell_type": "markdown",
   "metadata": {},
   "source": [
    "Now, each bit after this should contain the correct label for the corresponding image in the images file. So if we read the first label in this file and convert it to an int, it should be 5."
   ]
  },
  {
   "cell_type": "code",
   "execution_count": 23,
   "metadata": {},
   "outputs": [
    {
     "name": "stdout",
     "output_type": "stream",
     "text": [
      "The first number is 5\n"
     ]
    }
   ],
   "source": [
    "myInt = int.from_bytes(labels[8:9], byteorder=\"big\") ### read the next bit into the myInt variable\n",
    "print(\"The first number is \" + str(myInt)) ### convert the int to a string and output to the screen"
   ]
  },
  {
   "cell_type": "markdown",
   "metadata": {},
   "source": [
    "As we can see, the first label matches the content of the first image. Let's just test it with the next item in the two files to make sure it is working."
   ]
  },
  {
   "cell_type": "code",
   "execution_count": 21,
   "metadata": {},
   "outputs": [
    {
     "data": {
      "text/plain": [
       "<matplotlib.image.AxesImage at 0x2a692aa1eb8>"
      ]
     },
     "execution_count": 21,
     "metadata": {},
     "output_type": "execute_result"
    },
    {
     "data": {
      "image/png": "[encoded data removed]",
      "text/plain": [
       "<Figure size 432x288 with 1 Axes>"
      ]
     },
     "metadata": {},
     "output_type": "display_data"
    }
   ],
   "source": [
    "image = ~np.array(list(file_content[800:1584])).reshape(28,28).astype(np.uint8) ### moving to the next set of bytes for the next item\n",
    "plt.imshow(image, cmap='gray') ### display the image "
   ]
  },
  {
   "cell_type": "code",
   "execution_count": 24,
   "metadata": {},
   "outputs": [
    {
     "name": "stdout",
     "output_type": "stream",
     "text": [
      "The next number is 0\n"
     ]
    }
   ],
   "source": [
    "myInt = int.from_bytes(labels[9:10], byteorder=\"big\") ### read the next bit into the myInt variable\n",
    "print(\"The next number is \" + str(myInt)) ### convert the int to a string and output to the screen"
   ]
  },
  {
   "cell_type": "markdown",
   "metadata": {},
   "source": [
    "Now that we are successfully able to map the items in the labels file to the corresponding items in the index file, it's time to save the images to the system with the correct labels as a .png."
   ]
  },
  {
   "cell_type": "markdown",
   "metadata": {},
   "source": [
    "# Saving the images <a name=\"saveImages\"></a>\n",
    "\n",
    "In order to be able to save the images to the computer, we must loop through each image, mapping each image as we go to the correct label. This will be done using a for loop. But before we get onto that, we should set some variables."
   ]
  },
  {
   "cell_type": "code",
   "execution_count": 26,
   "metadata": {},
   "outputs": [],
   "source": [
    "start = 16 ### the first bit of the first image\n",
    "interval = 800 ### the last bit of the first image\n",
    "startLabels = 8 ### the first bit of the first label\n",
    "endLabels = 9 ### the last bit of the first label\n",
    "imgBits = 784 ### the length in bits of each image\n",
    "labelBits = 1 ### the length in bits of each label\n",
    "numberOfItems = int.from_bytes(labels[4:8], byteorder=\"big\") ### the number of items to loop through"
   ]
  },
  {
   "cell_type": "markdown",
   "metadata": {},
   "source": [
    "The way we are going to save the images with the correct labels will work as follows:\n",
    "* Create a for loop that loops 60,000(numberOfItems) times.\n",
    "* For each iteration, we are going to assign the image variable to the slice of bits between the start and interval variables\n",
    "* For each iteration we are going to assign the myInt variable to the slice of bits between the startLabels and endLabels variables.\n",
    "* For each iteration we are going to increase the start pointer by the lenght of bits per image(imgBits = 784).\n",
    "* For each iteration we are going to increase the interval pointer by the lenght of bits per image(imgBits = 784).\n",
    "* For each iteration we are going to increase the startLabels pointer by the lenght of bits per label(labelBits = 1).\n",
    "* For each iteration we are going to increase the endLabels pointer by the lenght of bits per label(labelBits = 1).\n",
    "* For each iteration save the image at that index to the system with the label at the corresponding index along with the index number for uniqueness."
   ]
  },
  {
   "cell_type": "markdown",
   "metadata": {},
   "source": [
    "In order to be able to save plots as png images we need to import the cv2 library. "
   ]
  },
  {
   "cell_type": "code",
   "execution_count": 27,
   "metadata": {},
   "outputs": [],
   "source": [
    "import cv2"
   ]
  },
  {
   "cell_type": "markdown",
   "metadata": {},
   "source": [
    "This may cause problems if opencv is not installed on the device. If you want to install it onto your device, simply open up a command terminal and write - \n",
    "-m pip install opencv-python\n",
    "* This command is for windows devices only.\n",
    "* [Click here for more detailes about the installation](https://pypi.org/project/opencv-python/)"
   ]
  },
  {
   "cell_type": "code",
   "execution_count": null,
   "metadata": {},
   "outputs": [],
   "source": [
    "for x in range(numberOfItems): ### for 60,000 iterations\n",
    "    image = ~np.array(list(file_content[start:interval])).reshape(28,28).astype(np.uint8) ### assign this slice of bits to the image variable\n",
    "    myInt = int.from_bytes(labels[startLabels:endLabels], byteorder=\"big\") ### assign this slice of bits to the myInt variable\n",
    "    start += imgBits ### increase the start pointer by the number of bits per image\n",
    "    interval += imgBits ### increase the interval pointer by the number of bits per image\n",
    "    startLabels += labelBits ### increase the startLabels pointer by the number of bits per label\n",
    "    endLabels += labelBits ### increase the endLabels pointer by the number of bits per label\n",
    "    \n",
    "    \n",
    "    cv2.imwrite(str(myInt) + \"_\" + str(x) + '.png', image) ### save the i,age variable as a .png file with the name of the corresponding label _ the iteration number for uniqueness"
   ]
  },
  {
   "cell_type": "markdown",
   "metadata": {},
   "source": [
    "# References <a name=\"refs\"></a>\n",
    "\n",
    "* [MNIST](http://yann.lecun.com/exdb/mnist/).\n",
    "* [opencv](https://docs.opencv.org/3.0-beta/modules/imgcodecs/doc/reading_and_writing_images.html)."
   ]
  },
  {
   "cell_type": "markdown",
   "metadata": {},
   "source": [
    "Author - * Gary Connelly*"
   ]
  },
  {
   "cell_type": "code",
   "execution_count": null,
   "metadata": {},
   "outputs": [],
   "source": []
  }
 ],
 "metadata": {
  "kernelspec": {
   "display_name": "Python 3",
   "language": "python",
   "name": "python3"
  },
  "language_info": {
   "codemirror_mode": {
    "name": "ipython",
    "version": 3
   },
   "file_extension": ".py",
   "mimetype": "text/x-python",
   "name": "python",
   "nbconvert_exporter": "python",
   "pygments_lexer": "ipython3",
   "version": "3.6.5"
  }
 },
 "nbformat": 4,
 "nbformat_minor": 2
}
