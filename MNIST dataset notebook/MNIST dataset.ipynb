{
 "cells": [
  {
   "cell_type": "markdown",
   "metadata": {},
   "source": [
    "# Introduction\n",
    "\n",
    "The MNIST dataset is a very popular dataset of handwritten numbers that are often used to train various image processing systems. This dataset contains 60,000 training images and 10,000 testing images. The files containing the images can be located and downloaded from the [MNIST website](http://yann.lecun.com/exdb/mnist/) in gzip form. However, because the images are not in any standard image rendering format, we must write our own program to be able to read the images and save them in the .png format. "
   ]
  },
  {
   "cell_type": "markdown",
   "metadata": {},
   "source": [
    "\n",
    "![](images/dataset.PNG)"
   ]
  },
  {
   "cell_type": "markdown",
   "metadata": {},
   "source": [
    "# This Notebook\n",
    "\n",
    "In this notebook, I will walk through the steps necessary to read the data in from the files and unzip them. I will then need to create a function that can read the individual bits from the file and process them in such a way so that the images can be saved on this system. The first step is to download the the 4 necessary gzip files from the MNIST website."
   ]
  },
  {
   "cell_type": "markdown",
   "metadata": {},
   "source": [
    "![](images/files.PNG)"
   ]
  },
  {
   "cell_type": "markdown",
   "metadata": {},
   "source": [
    "## Reading from the training file\n",
    "\n",
    "The first thing we need to do in order to read from these files is to import gzip so that we can unzip the file we want to read."
   ]
  },
  {
   "cell_type": "code",
   "execution_count": 1,
   "metadata": {},
   "outputs": [],
   "source": [
    "import gzip ### this package allows us to unzip the file for reading\n"
   ]
  },
  {
   "cell_type": "markdown",
   "metadata": {},
   "source": [
    "We then need to open the f"
   ]
  }
 ],
 "metadata": {
  "kernelspec": {
   "display_name": "Python 3",
   "language": "python",
   "name": "python3"
  },
  "language_info": {
   "codemirror_mode": {
    "name": "ipython",
    "version": 3
   },
   "file_extension": ".py",
   "mimetype": "text/x-python",
   "name": "python",
   "nbconvert_exporter": "python",
   "pygments_lexer": "ipython3",
   "version": "3.6.5"
  }
 },
 "nbformat": 4,
 "nbformat_minor": 2
}
