{
 "cells": [
  {
   "cell_type": "markdown",
   "metadata": {},
   "source": [
    "# Emerging Technology Research Summary"
   ]
  },
  {
   "cell_type": "markdown",
   "metadata": {},
   "source": [
    "In this notebook, I will discuss how I researched each of the topics discussed in the four notebooks and one script file in this repository. This project was completed as part of the Emerging Technology continuous-assesment assignment for 4th year."
   ]
  },
  {
   "cell_type": "markdown",
   "metadata": {},
   "source": [
    "## About Numpy Random:"
   ]
  },
  {
   "cell_type": "markdown",
   "metadata": {},
   "source": [
    "The first notebook I wrote for this module was about pythons numpy random package. This notebook was also my very first experience learning about and writing python code. Because it was my first time to use python, I really did't have any idea what numpy was or what it did."
   ]
  },
  {
   "cell_type": "markdown",
   "metadata": {},
   "source": [
    "### Wikipedia\n",
    "\n",
    "My first thought was to go straight to the python docs and look for information about numpy, but I thought it would be a better idea to read the wikipedia page for numpy because I knew that it would be written in such a way that even people who know nothing about python would be able to understand it. - [NumPy Wikipedia](https://en.wikipedia.org/wiki/NumPy)."
   ]
  },
  {
   "cell_type": "markdown",
   "metadata": {},
   "source": [
    "![](img/numpy/numpyWiki.PNG)"
   ]
  },
  {
   "cell_type": "markdown",
   "metadata": {},
   "source": [
    "### Youtube\n",
    "\n",
    "This wikipedia page went through, at a very high level what numpy is for and how it is used. Now that I had a basic understanding of what numpy can be used for, I wanted to see some examples of numpy being implemented in python before I went any further. The very first youtube search I did on numpy provided me with this video:"
   ]
  },
  {
   "cell_type": "markdown",
   "metadata": {},
   "source": [
    "[![alt text](img/numpy/numpyVid.PNG)](https://www.youtube.com/watch?v=8JfDAm9y_7s)\n",
    "\n"
   ]
  },
  {
   "cell_type": "markdown",
   "metadata": {},
   "source": [
    "This video really got me up and running with the basics of writing some python code in relation to the numpy package. After I did this, I felt it was time to start reading the documentation surrounding the numpy random package. "
   ]
  },
  {
   "cell_type": "markdown",
   "metadata": {},
   "source": [
    "### Documentation"
   ]
  },
  {
   "cell_type": "markdown",
   "metadata": {},
   "source": [
    "[numpy docs](https://docs.scipy.org/doc/numpy-1.14.1/reference/routines.random.html)."
   ]
  },
  {
   "cell_type": "markdown",
   "metadata": {},
   "source": [
    "The documentation was broken up into four sections.\n",
    "* Simple random data.\n",
    "* Permutations.\n",
    "* Distributions.\n",
    "* Random generator."
   ]
  },
  {
   "cell_type": "markdown",
   "metadata": {},
   "source": [
    "For the numpy notebook, we were not required to investigate every function in the numpy random package, but just to pick a few from each section."
   ]
  },
  {
   "cell_type": "markdown",
   "metadata": {},
   "source": [
    "\n",
    "**Simple Random Data**"
   ]
  },
  {
   "attachments": {},
   "cell_type": "markdown",
   "metadata": {},
   "source": [
    "![](img/numpy/simpleRabdomData.PNG)"
   ]
  },
  {
   "cell_type": "markdown",
   "metadata": {},
   "source": [
    "**Permutations**"
   ]
  },
  {
   "attachments": {},
   "cell_type": "markdown",
   "metadata": {},
   "source": [
    "![](img/numpy/permutations.PNG)"
   ]
  },
  {
   "cell_type": "markdown",
   "metadata": {},
   "source": [
    "**Distributions**"
   ]
  },
  {
   "attachments": {},
   "cell_type": "markdown",
   "metadata": {},
   "source": [
    "![](img/numpy/distributions.PNG)"
   ]
  },
  {
   "cell_type": "markdown",
   "metadata": {},
   "source": [
    "**Random Generator**"
   ]
  },
  {
   "attachments": {},
   "cell_type": "markdown",
   "metadata": {},
   "source": [
    "![](img/numpy/randomGen.PNG)"
   ]
  },
  {
   "cell_type": "markdown",
   "metadata": {},
   "source": [
    "## The Iris dataset"
   ]
  },
  {
   "cell_type": "markdown",
   "metadata": {},
   "source": [
    "The next notebook completed for this assignment was a notebook exlaining the classification of the Iris dataset. This notebook was my first experience with working with neural networks and so it was fascinating to learn how to build, train and test a neural network. The task of building my own neural network to classify a type of flower that I never even heard of before this assignment was a daunting one. However, once I began learning the concepts I very quickly got a feel for how this thing might work."
   ]
  },
  {
   "cell_type": "markdown",
   "metadata": {},
   "source": [
    "### Wikipedia\n",
    "\n",
    "Again, I thought that wikipedia might be a good place to start in order to find out what the iris data set is and why it is used in the world of data science. [Wikipedia](https://en.wikipedia.org/wiki/Iris_flower_data_set)."
   ]
  },
  {
   "cell_type": "markdown",
   "metadata": {},
   "source": [
    "![](img/Iris/irisWiki.PNG)"
   ]
  },
  {
   "cell_type": "markdown",
   "metadata": {},
   "source": [
    "Once I had a good idea of what the Iris dataset was and how they might be classified, I began looking into what algorithms could be used to classify them in a neural network."
   ]
  },
  {
   "cell_type": "markdown",
   "metadata": {},
   "source": [
    "### python-course.eu"
   ]
  },
  {
   "cell_type": "markdown",
   "metadata": {},
   "source": [
    "I saw bits and pieces from a few different websites about an algorithm called KNN(K-Nearest Neighbours) but none of them really explained what the algorithm did until I stumbled upon this - [KNN](https://www.python-course.eu/k_nearest_neighbor_classifier.php). "
   ]
  },
  {
   "cell_type": "markdown",
   "metadata": {},
   "source": [
    "![](img/Iris/knn.PNG)"
   ]
  },
  {
   "cell_type": "markdown",
   "metadata": {},
   "source": [
    "This fantastic site went into great detail about what the KNN algorithm does and how it works, along with some python code snippets for implementing it."
   ]
  },
  {
   "cell_type": "markdown",
   "metadata": {},
   "source": [
    "### sebastianraschka"
   ]
  },
  {
   "cell_type": "markdown",
   "metadata": {},
   "source": [
    "Another algorithm that kept popping up was linear discriminant analysis. A few google searches later and I found myself at this site [sebastianraschka](https://sebastianraschka.com/Articles/2014_python_lda.html)."
   ]
  },
  {
   "cell_type": "markdown",
   "metadata": {},
   "source": [
    "![](img/Iris/lda.PNG)"
   ]
  },
  {
   "cell_type": "markdown",
   "metadata": {},
   "source": [
    "This particular site went above and beyond the scope of what I needed to complete this notebook, but nevertheless I came away from this site have a concrete understanding of how these two algorithms work in python, and had made the decision that these are the two algorith,s I will be using in the neural network."
   ]
  },
  {
   "cell_type": "markdown",
   "metadata": {},
   "source": [
    "All I needed to do now was to import all the data and be able to pass it to a neural network model. "
   ]
  },
  {
   "cell_type": "markdown",
   "metadata": {},
   "source": [
    "### Kaggle"
   ]
  },
  {
   "cell_type": "markdown",
   "metadata": {},
   "source": [
    "I stumbled upon a page on the kaggle website where somone had an an example of how to read in the Iris data set. This site also provided code examples of how to visualize the data and how to train a network using the above algorithms.\n",
    "[kaggle](https://www.kaggle.com/jchen2186/machine-learning-with-iris-dataset/notebook)"
   ]
  },
  {
   "cell_type": "markdown",
   "metadata": {},
   "source": [
    "![](img/Iris/kaggle.PNG)"
   ]
  },
  {
   "cell_type": "markdown",
   "metadata": {},
   "source": [
    "## MNIST dataset"
   ]
  },
  {
   "cell_type": "markdown",
   "metadata": {},
   "source": [
    "I was already firmiliar with the MNIST dataset prior to writing the notebook one it because at that point, we had done a few lectures on it in class in which the lecturer explained very clearly what the MNIST consisted of and what it was used for. "
   ]
  },
  {
   "cell_type": "markdown",
   "metadata": {},
   "source": [
    "### MNIST website"
   ]
  },
  {
   "cell_type": "markdown",
   "metadata": {},
   "source": [
    "I did have to read the whole of the official MNIST web page because in order to be able to read the image files, I first had to create a program that would read the files for me. The MNIST website explained the format of the files and at what point in the file does an actual image begin. "
   ]
  },
  {
   "cell_type": "markdown",
   "metadata": {},
   "source": [
    "[MNIST](http://yann.lecun.com/exdb/mnist/)"
   ]
  },
  {
   "cell_type": "markdown",
   "metadata": {},
   "source": [
    "![](img/MNIST/mnistWebSite.PNG)"
   ]
  },
  {
   "cell_type": "markdown",
   "metadata": {},
   "source": [
    "### OpenCv"
   ]
  },
  {
   "cell_type": "markdown",
   "metadata": {},
   "source": [
    "Because I also wanted to be able to both read and write the image files to disc, after getting them into the program, I had to learn all about file reading and writing. When searching how this is done in python, I came accross the opencv documentation which thought me everything I need to know about reading and writing image files. "
   ]
  },
  {
   "cell_type": "markdown",
   "metadata": {},
   "source": [
    "![](img/MNIST/opencv.PNG)"
   ]
  },
  {
   "cell_type": "markdown",
   "metadata": {},
   "source": [
    "## Digit Recognition script and notebook"
   ]
  },
  {
   "cell_type": "markdown",
   "metadata": {},
   "source": [
    "The 4th and 5th sections of this assignment are colosely connected in that the 4th section is to write a script that can recognise and predict the digits in the MNIST dataset, and the 5th section is a notebook explaining things like how the script works, the programs performance, and how to download and run the program. This was perhaps the biggest part of the assignment and thus required a lot of research on the topic before I started to write a program."
   ]
  },
  {
   "cell_type": "code",
   "execution_count": null,
   "metadata": {},
   "outputs": [],
   "source": []
  }
 ],
 "metadata": {
  "kernelspec": {
   "display_name": "Python 3",
   "language": "python",
   "name": "python3"
  },
  "language_info": {
   "codemirror_mode": {
    "name": "ipython",
    "version": 3
   },
   "file_extension": ".py",
   "mimetype": "text/x-python",
   "name": "python",
   "nbconvert_exporter": "python",
   "pygments_lexer": "ipython3",
   "version": "3.6.5"
  }
 },
 "nbformat": 4,
 "nbformat_minor": 2
}
