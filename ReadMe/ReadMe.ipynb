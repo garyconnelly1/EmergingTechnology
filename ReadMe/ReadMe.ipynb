{
 "cells": [
  {
   "cell_type": "markdown",
   "metadata": {},
   "source": [
    "# Emerging Technology Research Summary"
   ]
  },
  {
   "cell_type": "markdown",
   "metadata": {},
   "source": [
    "In this notebook, I will discuss how I researched each of the topics discussed in the four notebooks and one script file in this repository. This project was completed as part of the Emerging Technology continuous-assesment assignment for 4th year."
   ]
  },
  {
   "cell_type": "markdown",
   "metadata": {},
   "source": [
    "## About Numpy Random:"
   ]
  },
  {
   "cell_type": "markdown",
   "metadata": {},
   "source": [
    "The first notebook I wrote for this module was about pythons numpy random package. This notebook was also my very first experience learning about and writing python code. Because it was my first time to use python, I really did't have any idea what numpy was or what it did."
   ]
  },
  {
   "cell_type": "markdown",
   "metadata": {},
   "source": [
    "### Wikipedia\n",
    "\n",
    "My first thought was to go straight to the python docs and look for information about numpy, but I thought it would be a better idea to read the wikipedia page for numpy because I knew that it would be written in such a way that even people who know nothing about python would be able to understand it. - [NumPy Wikipedia](https://en.wikipedia.org/wiki/NumPy)."
   ]
  },
  {
   "cell_type": "markdown",
   "metadata": {},
   "source": [
    "![](img/numpy/numpyWiki.PNG)"
   ]
  },
  {
   "cell_type": "markdown",
   "metadata": {},
   "source": [
    "### Youtube\n",
    "\n",
    "This wikipedia page went through, at a very high level what numpy is for and how it is used. Now that I had a basic understanding of what numpy can be used for, I wanted to see some examples of numpy being implemented in python before I went any further. The very first youtube search I did on numpy provided me with this video:"
   ]
  },
  {
   "cell_type": "markdown",
   "metadata": {},
   "source": [
    "[![alt text](img/numpy/numpyVid.PNG)](https://www.youtube.com/watch?v=8JfDAm9y_7s)\n",
    "\n"
   ]
  },
  {
   "cell_type": "markdown",
   "metadata": {},
   "source": [
    "This video really got me up and running with the basics of writing some python code in relation to the numpy package. After I did this, I felt it was time to start reading the documentation surrounding the numpy random package. "
   ]
  },
  {
   "cell_type": "markdown",
   "metadata": {},
   "source": [
    "### Documentation"
   ]
  },
  {
   "cell_type": "markdown",
   "metadata": {},
   "source": [
    "[numpy docs](https://docs.scipy.org/doc/numpy-1.14.1/reference/routines.random.html)"
   ]
  },
  {
   "cell_type": "markdown",
   "metadata": {},
   "source": [
    "The documentation was broken up into four sections.\n",
    "* Simple random data.\n",
    "* Permutations.\n",
    "* Distributions.\n",
    "* Random generator."
   ]
  },
  {
   "cell_type": "markdown",
   "metadata": {},
   "source": [
    "For the numpy notebook, we were not required to investigate every function in the numpy random package, but just to pick a few from each section."
   ]
  },
  {
   "cell_type": "markdown",
   "metadata": {},
   "source": [
    "\n",
    "**Simple Random Data**"
   ]
  },
  {
   "attachments": {},
   "cell_type": "markdown",
   "metadata": {},
   "source": [
    "![](img/numpy/simpleRabdomData.PNG)"
   ]
  },
  {
   "cell_type": "markdown",
   "metadata": {},
   "source": [
    "**Permutations**"
   ]
  },
  {
   "attachments": {},
   "cell_type": "markdown",
   "metadata": {},
   "source": [
    "![](img/numpy/permutations.PNG)"
   ]
  },
  {
   "cell_type": "markdown",
   "metadata": {},
   "source": [
    "**Distributions**"
   ]
  },
  {
   "attachments": {},
   "cell_type": "markdown",
   "metadata": {},
   "source": [
    "![](img/numpy/distributions.PNG)"
   ]
  },
  {
   "cell_type": "markdown",
   "metadata": {},
   "source": [
    "**Random generator**"
   ]
  }
 ],
 "metadata": {
  "kernelspec": {
   "display_name": "Python 3",
   "language": "python",
   "name": "python3"
  },
  "language_info": {
   "codemirror_mode": {
    "name": "ipython",
    "version": 3
   },
   "file_extension": ".py",
   "mimetype": "text/x-python",
   "name": "python",
   "nbconvert_exporter": "python",
   "pygments_lexer": "ipython3",
   "version": "3.6.5"
  }
 },
 "nbformat": 4,
 "nbformat_minor": 2
}
